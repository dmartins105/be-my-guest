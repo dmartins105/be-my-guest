{
 "cells": [
  {
   "cell_type": "markdown",
   "metadata": {},
   "source": [
    "# Be My Guest: A Data Science and Machine Learning Project\n",
    "## Introduction\n",
    "The hotel chain IMSInn, like many other hotels, has been keeping score of all the customer satisfaction surveys their guest kindly fill out and leave in their room after their stay. However, until know they were only used to obtain an overall satisfaction score.\n",
    "\n",
    "Recent developments of the global pandemic have caused business to slow down and the marketing department is working like crazy to figure a strategy to keep the impacts at a minimum. The idea is to target customers with a high probability of returning and give them discounts if they make a booking for next year, helping to contain marketing costs while guarantying some cash inflow.\n",
    "\n",
    "Your goal is to build a predictive model that answers the question “Which guests are more likely to return?” using the small quantity of data accessible from the guest data base that contains general information about the guests and their satisfaction survey responses, explained bellow.\n",
    "\n",
    "## Datasets\n",
    "The training set should be used to build your machine learning models. In this set, you also have the ground truth associated with each guest, i.e., if he returned or not.\n",
    "The test set should be used to see how well your model performs on unseen data. In this set you don’t have access to the ground truth, and the goal of your team is to predict that value (“0” or “1”) by using the model you created using the training set.\n",
    "The score of your predictions is calculated using f1 score.\n",
    "\n",
    "## Deliverables\n",
    "You should submit a csv file with the number of instances in the test set, containing the columns [Guest_ID, Repeater], and only those columns. The Repeater column should contain the prediction (“0” or “1”)."
   ]
  },
  {
   "cell_type": "markdown",
   "metadata": {},
   "source": [
    "---"
   ]
  },
  {
   "cell_type": "markdown",
   "metadata": {},
   "source": [
    "## Boilerplate\n",
    "All necessary packages in the working environment."
   ]
  },
  {
   "cell_type": "code",
   "execution_count": 279,
   "metadata": {},
   "outputs": [],
   "source": [
    "# Import all the needed packages\n",
    "import pandas as pd\n",
    "from sklearn.model_selection import StratifiedKFold\n",
    "from sklearn.preprocessing import MinMaxScaler\n",
    "import matplotlib.pyplot as plt\n",
    "%matplotlib inline\n",
    "import seaborn as sns\n",
    "from sklearn.linear_model import LogisticRegression\n",
    "from sklearn.feature_selection import RFE\n",
    "import scipy.stats as stats\n",
    "from scipy.stats import chi2_contingency\n",
    "from sklearn.neighbors import KNeighborsClassifier\n",
    "import numpy as np\n",
    "\n",
    "import warnings\n",
    "warnings.filterwarnings('ignore')\n",
    "\n",
    "# importando os modelos que serão usados\n",
    "from sklearn.tree import DecisionTreeClassifier\n",
    "from sklearn.ensemble import BaggingClassifier\n",
    "from sklearn.ensemble import RandomForestClassifier\n",
    "from sklearn.neural_network import MLPClassifier"
   ]
  },
  {
   "cell_type": "markdown",
   "metadata": {},
   "source": [
    "---"
   ]
  },
  {
   "cell_type": "markdown",
   "metadata": {},
   "source": [
    "## Importando o dataset"
   ]
  },
  {
   "cell_type": "code",
   "execution_count": 280,
   "metadata": {
    "scrolled": true
   },
   "outputs": [
    {
     "data": {
      "text/html": [
       "<div>\n",
       "<style scoped>\n",
       "    .dataframe tbody tr th:only-of-type {\n",
       "        vertical-align: middle;\n",
       "    }\n",
       "\n",
       "    .dataframe tbody tr th {\n",
       "        vertical-align: top;\n",
       "    }\n",
       "\n",
       "    .dataframe thead th {\n",
       "        text-align: right;\n",
       "    }\n",
       "</style>\n",
       "<table border=\"1\" class=\"dataframe\">\n",
       "  <thead>\n",
       "    <tr style=\"text-align: right;\">\n",
       "      <th></th>\n",
       "      <th>Name</th>\n",
       "      <th>Frequent_Traveler</th>\n",
       "      <th>Date_Birth</th>\n",
       "      <th>Type</th>\n",
       "      <th>Flight_Class</th>\n",
       "      <th>Points</th>\n",
       "      <th>Room</th>\n",
       "      <th>Check-in/Check-out</th>\n",
       "      <th>F&amp;B</th>\n",
       "      <th>Location</th>\n",
       "      <th>...</th>\n",
       "      <th>Spa</th>\n",
       "      <th>Staff</th>\n",
       "      <th>Pool</th>\n",
       "      <th>Baggage_Handling</th>\n",
       "      <th>Reception</th>\n",
       "      <th>Cleanliness</th>\n",
       "      <th>Online_Booking</th>\n",
       "      <th>Deposit_Kept</th>\n",
       "      <th>Time_Room_Service</th>\n",
       "      <th>Repeater</th>\n",
       "    </tr>\n",
       "    <tr>\n",
       "      <th>Guest_ID</th>\n",
       "      <th></th>\n",
       "      <th></th>\n",
       "      <th></th>\n",
       "      <th></th>\n",
       "      <th></th>\n",
       "      <th></th>\n",
       "      <th></th>\n",
       "      <th></th>\n",
       "      <th></th>\n",
       "      <th></th>\n",
       "      <th></th>\n",
       "      <th></th>\n",
       "      <th></th>\n",
       "      <th></th>\n",
       "      <th></th>\n",
       "      <th></th>\n",
       "      <th></th>\n",
       "      <th></th>\n",
       "      <th></th>\n",
       "      <th></th>\n",
       "      <th></th>\n",
       "    </tr>\n",
       "  </thead>\n",
       "  <tbody>\n",
       "    <tr>\n",
       "      <th>19346</th>\n",
       "      <td>Mr. James Bond</td>\n",
       "      <td>1</td>\n",
       "      <td>July 1, 1991</td>\n",
       "      <td>Business travel</td>\n",
       "      <td>Eco</td>\n",
       "      <td>2695</td>\n",
       "      <td>3</td>\n",
       "      <td>5</td>\n",
       "      <td>5</td>\n",
       "      <td>5</td>\n",
       "      <td>...</td>\n",
       "      <td>4</td>\n",
       "      <td>2</td>\n",
       "      <td>3</td>\n",
       "      <td>3</td>\n",
       "      <td>3</td>\n",
       "      <td>3</td>\n",
       "      <td>3</td>\n",
       "      <td>187</td>\n",
       "      <td>20.2</td>\n",
       "      <td>0</td>\n",
       "    </tr>\n",
       "    <tr>\n",
       "      <th>21830</th>\n",
       "      <td>Mr. Christian Newman</td>\n",
       "      <td>1</td>\n",
       "      <td>January 25, 1964</td>\n",
       "      <td>Personal Travel</td>\n",
       "      <td>Eco</td>\n",
       "      <td>2057</td>\n",
       "      <td>2</td>\n",
       "      <td>1</td>\n",
       "      <td>2</td>\n",
       "      <td>4</td>\n",
       "      <td>...</td>\n",
       "      <td>3</td>\n",
       "      <td>2</td>\n",
       "      <td>5</td>\n",
       "      <td>3</td>\n",
       "      <td>4</td>\n",
       "      <td>3</td>\n",
       "      <td>3</td>\n",
       "      <td>0</td>\n",
       "      <td>1.2</td>\n",
       "      <td>0</td>\n",
       "    </tr>\n",
       "    <tr>\n",
       "      <th>17626</th>\n",
       "      <td>Miss Megan Welch</td>\n",
       "      <td>1</td>\n",
       "      <td>May 10, 2005</td>\n",
       "      <td>Personal Travel</td>\n",
       "      <td>Eco</td>\n",
       "      <td>1478</td>\n",
       "      <td>2</td>\n",
       "      <td>2</td>\n",
       "      <td>2</td>\n",
       "      <td>2</td>\n",
       "      <td>...</td>\n",
       "      <td>4</td>\n",
       "      <td>4</td>\n",
       "      <td>4</td>\n",
       "      <td>4</td>\n",
       "      <td>3</td>\n",
       "      <td>4</td>\n",
       "      <td>5</td>\n",
       "      <td>0</td>\n",
       "      <td>0.0</td>\n",
       "      <td>1</td>\n",
       "    </tr>\n",
       "    <tr>\n",
       "      <th>17988</th>\n",
       "      <td>Miss Carol Gibson</td>\n",
       "      <td>1</td>\n",
       "      <td>March 25, 1973</td>\n",
       "      <td>Business travel</td>\n",
       "      <td>Business</td>\n",
       "      <td>2304</td>\n",
       "      <td>3</td>\n",
       "      <td>1</td>\n",
       "      <td>1</td>\n",
       "      <td>1</td>\n",
       "      <td>...</td>\n",
       "      <td>1</td>\n",
       "      <td>2</td>\n",
       "      <td>4</td>\n",
       "      <td>4</td>\n",
       "      <td>3</td>\n",
       "      <td>2</td>\n",
       "      <td>3</td>\n",
       "      <td>147</td>\n",
       "      <td>15.0</td>\n",
       "      <td>0</td>\n",
       "    </tr>\n",
       "    <tr>\n",
       "      <th>16703</th>\n",
       "      <td>Mrs. Jessica Tucker</td>\n",
       "      <td>1</td>\n",
       "      <td>May 29, 1969</td>\n",
       "      <td>Business travel</td>\n",
       "      <td>Eco</td>\n",
       "      <td>73</td>\n",
       "      <td>3</td>\n",
       "      <td>3</td>\n",
       "      <td>3</td>\n",
       "      <td>3</td>\n",
       "      <td>...</td>\n",
       "      <td>3</td>\n",
       "      <td>3</td>\n",
       "      <td>3</td>\n",
       "      <td>3</td>\n",
       "      <td>4</td>\n",
       "      <td>3</td>\n",
       "      <td>3</td>\n",
       "      <td>6</td>\n",
       "      <td>1.0</td>\n",
       "      <td>1</td>\n",
       "    </tr>\n",
       "  </tbody>\n",
       "</table>\n",
       "<p>5 rows × 23 columns</p>\n",
       "</div>"
      ],
      "text/plain": [
       "                          Name  Frequent_Traveler         Date_Birth  \\\n",
       "Guest_ID                                                               \n",
       "19346           Mr. James Bond                  1       July 1, 1991   \n",
       "21830     Mr. Christian Newman                  1   January 25, 1964   \n",
       "17626         Miss Megan Welch                  1       May 10, 2005   \n",
       "17988        Miss Carol Gibson                  1     March 25, 1973   \n",
       "16703      Mrs. Jessica Tucker                  1       May 29, 1969   \n",
       "\n",
       "                     Type Flight_Class  Points  Room  Check-in/Check-out  F&B  \\\n",
       "Guest_ID                                                                        \n",
       "19346     Business travel          Eco    2695     3                   5    5   \n",
       "21830     Personal Travel          Eco    2057     2                   1    2   \n",
       "17626     Personal Travel          Eco    1478     2                   2    2   \n",
       "17988     Business travel     Business    2304     3                   1    1   \n",
       "16703     Business travel          Eco      73     3                   3    3   \n",
       "\n",
       "          Location  ...  Spa  Staff  Pool  Baggage_Handling  Reception  \\\n",
       "Guest_ID            ...                                                  \n",
       "19346            5  ...    4      2     3                 3          3   \n",
       "21830            4  ...    3      2     5                 3          4   \n",
       "17626            2  ...    4      4     4                 4          3   \n",
       "17988            1  ...    1      2     4                 4          3   \n",
       "16703            3  ...    3      3     3                 3          4   \n",
       "\n",
       "          Cleanliness  Online_Booking  Deposit_Kept  Time_Room_Service  \\\n",
       "Guest_ID                                                                 \n",
       "19346               3               3           187               20.2   \n",
       "21830               3               3             0                1.2   \n",
       "17626               4               5             0                0.0   \n",
       "17988               2               3           147               15.0   \n",
       "16703               3               3             6                1.0   \n",
       "\n",
       "          Repeater  \n",
       "Guest_ID            \n",
       "19346            0  \n",
       "21830            0  \n",
       "17626            1  \n",
       "17988            0  \n",
       "16703            1  \n",
       "\n",
       "[5 rows x 23 columns]"
      ]
     },
     "execution_count": 280,
     "metadata": {},
     "output_type": "execute_result"
    }
   ],
   "source": [
    "# Import the dataset, drop duplicates\n",
    "data = pd.read_csv(r'./datasets/train.csv')\n",
    "data.set_index('Guest_ID', inplace = True)\n",
    "data.head()"
   ]
  },
  {
   "cell_type": "markdown",
   "metadata": {},
   "source": [
    "__Data fields__\n",
    "- `Guest_ID` - Unique identifier of the guest\n",
    "- `Name` - The name of the guest\n",
    "- `Frequent_Traveler` - Binary variable indicating if the guest is a frequent flier or not\n",
    "- `Date_Birth` - Guest date of birth\n",
    "- `Type` - Reason for travelling\n",
    "- `Flight_Class` - Class of flight took to get to the hotel\n",
    "- `Points` - Points from travel club membership\n",
    "- `Room` - Evaluation of the room (0 to 5)\n",
    "- `Check-in/Check-out` - Evaluation of the check-in/check-out process (0 to 5)\n",
    "- `F&B` - Evaluation of the food and beverages (0 to 5)\n",
    "- `Location` - Evaluation of the hotel location (0 to 5)\n",
    "- `Wifi` - Evaluation of the hotel wifi (0 to 5)\n",
    "- `Entertainment` - Evaluation of the entertainment offer (0 to 5)\n",
    "- `Gym` - Evaluation of the gym (0 to 5)\n",
    "- `Spa` - Evaluation of the spa (0 to 5)\n",
    "- `Staff` - Evaluation of the staff (0 to 5)\n",
    "- `Pool` - Evaluation of the pool (0 to 5)\n",
    "- `Baggage_Handling` - Evaluation of the baggage handling process (0 to 5)\n",
    "- `Reception` - Evaluation of the reception (0 to 5)\n",
    "- `Cleanliness` - Evaluation of the cleanliness (0 to 5)\n",
    "- `Online_Booking` - Evaluation of the online booking process (0 to 5)\n",
    "- `Deposit_Kept` - Amount withdrawn from the credit card of the guest to cover damages\n",
    "- `Time_Room_Service` - Average time (minutes) the guest waited to receive room service\n",
    "- `Repeater` - Binary variable signaling if the customer returned or not (up until a year after the first visit)"
   ]
  },
  {
   "cell_type": "markdown",
   "metadata": {},
   "source": [
    "Data Types for Independent Variables:\n",
    "- __`Categorical`__ - Type, Flight_Class\n",
    "- __`Continuous`__ - Date_Birth, Points, Deposit_Kept, Time_Room_Service\n",
    "- __`Binary`__ - Frequent_Traveler    \n",
    "- __`Ordinal`__ - Room, Check-in/Check-out, F&B, Location, Wifi, Entertainment, Gym, Spa, Staff, Pool, Baggage_Handling, Reception, Cleanliness, Online_Booking\n",
    "\n",
    "Missing values:\n",
    "- Date_Birth (continuous)"
   ]
  },
  {
   "cell_type": "markdown",
   "metadata": {},
   "source": [
    "## Explorando o dataset"
   ]
  },
  {
   "cell_type": "code",
   "execution_count": 281,
   "metadata": {
    "scrolled": false
   },
   "outputs": [
    {
     "name": "stdout",
     "output_type": "stream",
     "text": [
      "<class 'pandas.core.frame.DataFrame'>\n",
      "Int64Index: 9100 entries, 19346 to 22235\n",
      "Data columns (total 23 columns):\n",
      " #   Column              Non-Null Count  Dtype  \n",
      "---  ------              --------------  -----  \n",
      " 0   Name                9100 non-null   object \n",
      " 1   Frequent_Traveler   9100 non-null   int64  \n",
      " 2   Date_Birth          8995 non-null   object \n",
      " 3   Type                9100 non-null   object \n",
      " 4   Flight_Class        9100 non-null   object \n",
      " 5   Points              9100 non-null   int64  \n",
      " 6   Room                9100 non-null   int64  \n",
      " 7   Check-in/Check-out  9100 non-null   int64  \n",
      " 8   F&B                 9100 non-null   int64  \n",
      " 9   Location            9100 non-null   int64  \n",
      " 10  Wifi                9100 non-null   int64  \n",
      " 11  Entertainment       9100 non-null   int64  \n",
      " 12  Gym                 9100 non-null   int64  \n",
      " 13  Spa                 9100 non-null   int64  \n",
      " 14  Staff               9100 non-null   int64  \n",
      " 15  Pool                9100 non-null   int64  \n",
      " 16  Baggage_Handling    9100 non-null   int64  \n",
      " 17  Reception           9100 non-null   int64  \n",
      " 18  Cleanliness         9100 non-null   int64  \n",
      " 19  Online_Booking      9100 non-null   int64  \n",
      " 20  Deposit_Kept        9100 non-null   int64  \n",
      " 21  Time_Room_Service   9100 non-null   float64\n",
      " 22  Repeater            9100 non-null   int64  \n",
      "dtypes: float64(1), int64(18), object(4)\n",
      "memory usage: 1.7+ MB\n"
     ]
    }
   ],
   "source": [
    "# small exploration on the data\n",
    "data.info()"
   ]
  },
  {
   "cell_type": "code",
   "execution_count": null,
   "metadata": {},
   "outputs": [],
   "source": []
  },
  {
   "cell_type": "markdown",
   "metadata": {},
   "source": [
    "## Exploração Estatística"
   ]
  },
  {
   "cell_type": "code",
   "execution_count": 282,
   "metadata": {},
   "outputs": [
    {
     "data": {
      "text/html": [
       "<div>\n",
       "<style scoped>\n",
       "    .dataframe tbody tr th:only-of-type {\n",
       "        vertical-align: middle;\n",
       "    }\n",
       "\n",
       "    .dataframe tbody tr th {\n",
       "        vertical-align: top;\n",
       "    }\n",
       "\n",
       "    .dataframe thead th {\n",
       "        text-align: right;\n",
       "    }\n",
       "</style>\n",
       "<table border=\"1\" class=\"dataframe\">\n",
       "  <thead>\n",
       "    <tr style=\"text-align: right;\">\n",
       "      <th></th>\n",
       "      <th>count</th>\n",
       "      <th>mean</th>\n",
       "      <th>std</th>\n",
       "      <th>min</th>\n",
       "      <th>25%</th>\n",
       "      <th>50%</th>\n",
       "      <th>75%</th>\n",
       "      <th>max</th>\n",
       "    </tr>\n",
       "  </thead>\n",
       "  <tbody>\n",
       "    <tr>\n",
       "      <th>Frequent_Traveler</th>\n",
       "      <td>9100.0</td>\n",
       "      <td>0.814505</td>\n",
       "      <td>0.388720</td>\n",
       "      <td>0.0</td>\n",
       "      <td>1.0</td>\n",
       "      <td>1.0</td>\n",
       "      <td>1.0</td>\n",
       "      <td>1.0</td>\n",
       "    </tr>\n",
       "    <tr>\n",
       "      <th>Points</th>\n",
       "      <td>9100.0</td>\n",
       "      <td>1969.286813</td>\n",
       "      <td>1019.192578</td>\n",
       "      <td>50.0</td>\n",
       "      <td>1354.0</td>\n",
       "      <td>1916.0</td>\n",
       "      <td>2529.0</td>\n",
       "      <td>6097.0</td>\n",
       "    </tr>\n",
       "    <tr>\n",
       "      <th>Room</th>\n",
       "      <td>9100.0</td>\n",
       "      <td>2.847363</td>\n",
       "      <td>1.388212</td>\n",
       "      <td>0.0</td>\n",
       "      <td>2.0</td>\n",
       "      <td>3.0</td>\n",
       "      <td>4.0</td>\n",
       "      <td>5.0</td>\n",
       "    </tr>\n",
       "    <tr>\n",
       "      <th>Check-in/Check-out</th>\n",
       "      <td>9100.0</td>\n",
       "      <td>2.976484</td>\n",
       "      <td>1.539135</td>\n",
       "      <td>0.0</td>\n",
       "      <td>2.0</td>\n",
       "      <td>3.0</td>\n",
       "      <td>4.0</td>\n",
       "      <td>5.0</td>\n",
       "    </tr>\n",
       "    <tr>\n",
       "      <th>F&amp;B</th>\n",
       "      <td>9100.0</td>\n",
       "      <td>2.858352</td>\n",
       "      <td>1.442011</td>\n",
       "      <td>0.0</td>\n",
       "      <td>2.0</td>\n",
       "      <td>3.0</td>\n",
       "      <td>4.0</td>\n",
       "      <td>5.0</td>\n",
       "    </tr>\n",
       "    <tr>\n",
       "      <th>Location</th>\n",
       "      <td>9100.0</td>\n",
       "      <td>2.989560</td>\n",
       "      <td>1.301297</td>\n",
       "      <td>0.0</td>\n",
       "      <td>2.0</td>\n",
       "      <td>3.0</td>\n",
       "      <td>4.0</td>\n",
       "      <td>5.0</td>\n",
       "    </tr>\n",
       "    <tr>\n",
       "      <th>Wifi</th>\n",
       "      <td>9100.0</td>\n",
       "      <td>3.239780</td>\n",
       "      <td>1.311509</td>\n",
       "      <td>0.0</td>\n",
       "      <td>2.0</td>\n",
       "      <td>3.0</td>\n",
       "      <td>4.0</td>\n",
       "      <td>5.0</td>\n",
       "    </tr>\n",
       "    <tr>\n",
       "      <th>Entertainment</th>\n",
       "      <td>9100.0</td>\n",
       "      <td>3.393846</td>\n",
       "      <td>1.336398</td>\n",
       "      <td>0.0</td>\n",
       "      <td>2.0</td>\n",
       "      <td>4.0</td>\n",
       "      <td>4.0</td>\n",
       "      <td>5.0</td>\n",
       "    </tr>\n",
       "    <tr>\n",
       "      <th>Gym</th>\n",
       "      <td>9100.0</td>\n",
       "      <td>3.514505</td>\n",
       "      <td>1.297452</td>\n",
       "      <td>1.0</td>\n",
       "      <td>3.0</td>\n",
       "      <td>4.0</td>\n",
       "      <td>5.0</td>\n",
       "      <td>5.0</td>\n",
       "    </tr>\n",
       "    <tr>\n",
       "      <th>Spa</th>\n",
       "      <td>9100.0</td>\n",
       "      <td>3.477692</td>\n",
       "      <td>1.300556</td>\n",
       "      <td>0.0</td>\n",
       "      <td>2.0</td>\n",
       "      <td>4.0</td>\n",
       "      <td>5.0</td>\n",
       "      <td>5.0</td>\n",
       "    </tr>\n",
       "    <tr>\n",
       "      <th>Staff</th>\n",
       "      <td>9100.0</td>\n",
       "      <td>3.473846</td>\n",
       "      <td>1.273068</td>\n",
       "      <td>1.0</td>\n",
       "      <td>3.0</td>\n",
       "      <td>4.0</td>\n",
       "      <td>5.0</td>\n",
       "      <td>5.0</td>\n",
       "    </tr>\n",
       "    <tr>\n",
       "      <th>Pool</th>\n",
       "      <td>9100.0</td>\n",
       "      <td>3.495385</td>\n",
       "      <td>1.295151</td>\n",
       "      <td>0.0</td>\n",
       "      <td>2.0</td>\n",
       "      <td>4.0</td>\n",
       "      <td>5.0</td>\n",
       "      <td>5.0</td>\n",
       "    </tr>\n",
       "    <tr>\n",
       "      <th>Baggage_Handling</th>\n",
       "      <td>9100.0</td>\n",
       "      <td>3.694396</td>\n",
       "      <td>1.161207</td>\n",
       "      <td>1.0</td>\n",
       "      <td>3.0</td>\n",
       "      <td>4.0</td>\n",
       "      <td>5.0</td>\n",
       "      <td>5.0</td>\n",
       "    </tr>\n",
       "    <tr>\n",
       "      <th>Reception</th>\n",
       "      <td>9100.0</td>\n",
       "      <td>3.336374</td>\n",
       "      <td>1.258245</td>\n",
       "      <td>1.0</td>\n",
       "      <td>3.0</td>\n",
       "      <td>3.0</td>\n",
       "      <td>4.0</td>\n",
       "      <td>5.0</td>\n",
       "    </tr>\n",
       "    <tr>\n",
       "      <th>Cleanliness</th>\n",
       "      <td>9100.0</td>\n",
       "      <td>3.702747</td>\n",
       "      <td>1.155981</td>\n",
       "      <td>1.0</td>\n",
       "      <td>3.0</td>\n",
       "      <td>4.0</td>\n",
       "      <td>5.0</td>\n",
       "      <td>5.0</td>\n",
       "    </tr>\n",
       "    <tr>\n",
       "      <th>Online_Booking</th>\n",
       "      <td>9100.0</td>\n",
       "      <td>3.348352</td>\n",
       "      <td>1.291196</td>\n",
       "      <td>0.0</td>\n",
       "      <td>2.0</td>\n",
       "      <td>4.0</td>\n",
       "      <td>4.0</td>\n",
       "      <td>5.0</td>\n",
       "    </tr>\n",
       "    <tr>\n",
       "      <th>Deposit_Kept</th>\n",
       "      <td>9100.0</td>\n",
       "      <td>14.598022</td>\n",
       "      <td>36.931424</td>\n",
       "      <td>0.0</td>\n",
       "      <td>0.0</td>\n",
       "      <td>0.0</td>\n",
       "      <td>13.0</td>\n",
       "      <td>729.0</td>\n",
       "    </tr>\n",
       "    <tr>\n",
       "      <th>Time_Room_Service</th>\n",
       "      <td>9100.0</td>\n",
       "      <td>1.497429</td>\n",
       "      <td>3.728651</td>\n",
       "      <td>0.0</td>\n",
       "      <td>0.0</td>\n",
       "      <td>0.0</td>\n",
       "      <td>1.3</td>\n",
       "      <td>71.7</td>\n",
       "    </tr>\n",
       "    <tr>\n",
       "      <th>Repeater</th>\n",
       "      <td>9100.0</td>\n",
       "      <td>0.546264</td>\n",
       "      <td>0.497882</td>\n",
       "      <td>0.0</td>\n",
       "      <td>0.0</td>\n",
       "      <td>1.0</td>\n",
       "      <td>1.0</td>\n",
       "      <td>1.0</td>\n",
       "    </tr>\n",
       "  </tbody>\n",
       "</table>\n",
       "</div>"
      ],
      "text/plain": [
       "                     count         mean          std   min     25%     50%  \\\n",
       "Frequent_Traveler   9100.0     0.814505     0.388720   0.0     1.0     1.0   \n",
       "Points              9100.0  1969.286813  1019.192578  50.0  1354.0  1916.0   \n",
       "Room                9100.0     2.847363     1.388212   0.0     2.0     3.0   \n",
       "Check-in/Check-out  9100.0     2.976484     1.539135   0.0     2.0     3.0   \n",
       "F&B                 9100.0     2.858352     1.442011   0.0     2.0     3.0   \n",
       "Location            9100.0     2.989560     1.301297   0.0     2.0     3.0   \n",
       "Wifi                9100.0     3.239780     1.311509   0.0     2.0     3.0   \n",
       "Entertainment       9100.0     3.393846     1.336398   0.0     2.0     4.0   \n",
       "Gym                 9100.0     3.514505     1.297452   1.0     3.0     4.0   \n",
       "Spa                 9100.0     3.477692     1.300556   0.0     2.0     4.0   \n",
       "Staff               9100.0     3.473846     1.273068   1.0     3.0     4.0   \n",
       "Pool                9100.0     3.495385     1.295151   0.0     2.0     4.0   \n",
       "Baggage_Handling    9100.0     3.694396     1.161207   1.0     3.0     4.0   \n",
       "Reception           9100.0     3.336374     1.258245   1.0     3.0     3.0   \n",
       "Cleanliness         9100.0     3.702747     1.155981   1.0     3.0     4.0   \n",
       "Online_Booking      9100.0     3.348352     1.291196   0.0     2.0     4.0   \n",
       "Deposit_Kept        9100.0    14.598022    36.931424   0.0     0.0     0.0   \n",
       "Time_Room_Service   9100.0     1.497429     3.728651   0.0     0.0     0.0   \n",
       "Repeater            9100.0     0.546264     0.497882   0.0     0.0     1.0   \n",
       "\n",
       "                       75%     max  \n",
       "Frequent_Traveler      1.0     1.0  \n",
       "Points              2529.0  6097.0  \n",
       "Room                   4.0     5.0  \n",
       "Check-in/Check-out     4.0     5.0  \n",
       "F&B                    4.0     5.0  \n",
       "Location               4.0     5.0  \n",
       "Wifi                   4.0     5.0  \n",
       "Entertainment          4.0     5.0  \n",
       "Gym                    5.0     5.0  \n",
       "Spa                    5.0     5.0  \n",
       "Staff                  5.0     5.0  \n",
       "Pool                   5.0     5.0  \n",
       "Baggage_Handling       5.0     5.0  \n",
       "Reception              4.0     5.0  \n",
       "Cleanliness            5.0     5.0  \n",
       "Online_Booking         4.0     5.0  \n",
       "Deposit_Kept          13.0   729.0  \n",
       "Time_Room_Service      1.3    71.7  \n",
       "Repeater               1.0     1.0  "
      ]
     },
     "execution_count": 282,
     "metadata": {},
     "output_type": "execute_result"
    }
   ],
   "source": [
    "data.describe().T"
   ]
  },
  {
   "cell_type": "code",
   "execution_count": 283,
   "metadata": {},
   "outputs": [
    {
     "data": {
      "text/plain": [
       "<AxesSubplot:xlabel='Staff', ylabel='Count'>"
      ]
     },
     "execution_count": 283,
     "metadata": {},
     "output_type": "execute_result"
    },
    {
     "data": {
      "image/png": "[encoded data removed]",
      "text/plain": [
       "<Figure size 1008x1440 with 15 Axes>"
      ]
     },
     "metadata": {},
     "output_type": "display_data"
    }
   ],
   "source": [
    "# histplot das notas\n",
    "sns.set_style(\"white\")\n",
    "\n",
    "fig, axes = plt.subplots(5,3, figsize = (14,20))\n",
    "sns.histplot(ax = axes[0,0], data = data, x = 'Room')\n",
    "sns.histplot(ax = axes[0,1], data = data, x = 'Check-in/Check-out')\n",
    "sns.histplot(ax = axes[0,2], data = data, x = 'F&B')\n",
    "sns.histplot(ax = axes[1,0], data = data, x = 'Location')\n",
    "sns.histplot(ax = axes[1,1], data = data, x = 'Wifi')\n",
    "sns.histplot(ax = axes[1,2], data = data, x = 'Entertainment')\n",
    "sns.histplot(ax = axes[2,0], data = data, x = 'Gym')\n",
    "sns.histplot(ax = axes[2,1], data = data, x = 'Spa')\n",
    "sns.histplot(ax = axes[2,2], data = data, x = 'Pool')\n",
    "sns.histplot(ax = axes[3,0], data = data, x = 'Baggage_Handling')\n",
    "sns.histplot(ax = axes[3,1], data = data, x = 'Reception')\n",
    "sns.histplot(ax = axes[3,2], data = data, x = 'Cleanliness')\n",
    "sns.histplot(ax = axes[4,0], data = data, x = 'Online_Booking')\n",
    "sns.histplot(ax = axes[4,1], data = data, x = 'Staff')"
   ]
  },
  {
   "cell_type": "code",
   "execution_count": 285,
   "metadata": {},
   "outputs": [
    {
     "data": {
      "image/png": "[encoded data removed]",
      "text/plain": [
       "<Figure size 1008x288 with 1 Axes>"
      ]
     },
     "metadata": {},
     "output_type": "display_data"
    }
   ],
   "source": [
    "# histogramas das variáveis contínuas\n",
    "fig, axes = plt.subplots(figsize = (14,4))\n",
    "sns.histplot(data = data, x = 'Points')\n",
    "plt.show()"
   ]
  },
  {
   "cell_type": "code",
   "execution_count": 286,
   "metadata": {},
   "outputs": [
    {
     "data": {
      "image/png": "[encoded data removed]",
      "text/plain": [
       "<Figure size 1008x288 with 2 Axes>"
      ]
     },
     "metadata": {},
     "output_type": "display_data"
    }
   ],
   "source": [
    "fig, (ax_box, ax_hist) = plt.subplots(2, sharex=True, gridspec_kw={\"height_ratios\": (.1, .9)}, figsize = (14,4))\n",
    "sns.boxplot(data['Deposit_Kept'], ax = ax_box, )\n",
    "sns.histplot(ax = ax_hist, data = data, x = 'Deposit_Kept')\n",
    "ax_box.set(xlabel='')\n",
    "plt.show()"
   ]
  },
  {
   "cell_type": "code",
   "execution_count": 287,
   "metadata": {},
   "outputs": [
    {
     "data": {
      "image/png": "[encoded data removed]",
      "text/plain": [
       "<Figure size 1008x288 with 2 Axes>"
      ]
     },
     "metadata": {},
     "output_type": "display_data"
    }
   ],
   "source": [
    "fig, (ax_box, ax_hist) = plt.subplots(2, sharex=True, gridspec_kw={\"height_ratios\": (.1, .9)}, figsize = (14,4))\n",
    "sns.boxplot(data['Time_Room_Service'], ax = ax_box, )\n",
    "sns.histplot(ax = ax_hist, data = data, x = 'Time_Room_Service')\n",
    "ax_box.set(xlabel='')\n",
    "plt.show()"
   ]
  },
  {
   "cell_type": "code",
   "execution_count": 288,
   "metadata": {},
   "outputs": [
    {
     "data": {
      "image/png": "[encoded data removed]",
      "text/plain": [
       "<Figure size 1008x288 with 3 Axes>"
      ]
     },
     "metadata": {},
     "output_type": "display_data"
    }
   ],
   "source": [
    "# barplot das varivaveis categóricas\n",
    "fig, axes = plt.subplots(1,3, figsize = (14,4))\n",
    "sns.histplot(ax = axes[0], data = data, x = 'Frequent_Traveler')\n",
    "sns.histplot(ax = axes[1], data = data, x = 'Type')\n",
    "sns.histplot(ax = axes[2], data = data, x = 'Flight_Class')\n",
    "plt.show()"
   ]
  },
  {
   "cell_type": "markdown",
   "metadata": {},
   "source": [
    "## Transformando alguns dados:\n",
    "- Deposit_Kept e Time_Room_Service: log\n",
    "- Flight_Class: Agrupar Eco e Eco Plus\n",
    "- Age: fillna com a mediana"
   ]
  },
  {
   "cell_type": "code",
   "execution_count": 289,
   "metadata": {},
   "outputs": [
    {
     "data": {
      "text/plain": [
       "Mr.     4478\n",
       "Mrs.    3218\n",
       "Miss    1404\n",
       "Name: Name, dtype: int64"
      ]
     },
     "execution_count": 289,
     "metadata": {},
     "output_type": "execute_result"
    }
   ],
   "source": [
    "data['Name'].str.slice(0,4).value_counts()"
   ]
  },
  {
   "cell_type": "code",
   "execution_count": 290,
   "metadata": {},
   "outputs": [],
   "source": [
    "# criando dataest com transformadas\n",
    "data_trans = data.copy()\n",
    "\n",
    "# criando a variável de gênero\n",
    "data_trans['Gender'] = data_trans['Name'].str.slice(0,4)\n",
    "data_trans['Gender'].replace('Mr. ', 'M', inplace = True)\n",
    "data_trans['Gender'].replace('Mrs.', 'F', inplace = True)\n",
    "data_trans['Gender'].replace('Miss', 'F', inplace = True)\n",
    "data_trans.drop('Name', axis = 1, inplace = True)\n",
    "\n",
    "# convertendo variáveis: Date_Birth, Age\n",
    "data_trans['Date_Birth'] = pd.to_datetime(data_trans['Date_Birth'])\n",
    "data_trans['Age'] = 2021 - data_trans['Date_Birth'].dt.year\n",
    "data_trans.drop('Date_Birth', axis = 1, inplace = True)\n",
    "\n",
    "\n",
    "# transformando log\n",
    "data_trans['Deposit_Kept_Log'] = data_trans['Deposit_Kept'] + 1\n",
    "data_trans['Deposit_Kept_Log'] = np.log(data_trans['Deposit_Kept_Log'])\n",
    "data_trans['Time_Room_Service_Log'] = data_trans['Time_Room_Service'] + 1\n",
    "data_trans['Time_Room_Service_Log'] = np.log(data_trans['Time_Room_Service_Log'])\n",
    "\n",
    "# agrupando eco e ecoplus\n",
    "# data_trans['Flight_Class_Group'] = data_trans['Flight_Class']\n",
    "# data_trans['Flight_Class_Group'].loc[data_trans['Flight_Class_Group'] == 'Eco Plus'] = 'Eco'\n",
    "\n",
    "# preenchendo na em Age\n",
    "#data_trans.fillna({'Age': data_trans['Age'].median()}, inplace = True)\n"
   ]
  },
  {
   "cell_type": "code",
   "execution_count": 291,
   "metadata": {
    "scrolled": true
   },
   "outputs": [
    {
     "data": {
      "image/png": "[encoded data removed]",
      "text/plain": [
       "<Figure size 1008x288 with 2 Axes>"
      ]
     },
     "metadata": {},
     "output_type": "display_data"
    }
   ],
   "source": [
    "# histogramas das variáveis contínuas\n",
    "fig, axes = plt.subplots(1,2, figsize = (14,4))\n",
    "sns.histplot(ax = axes[0], data = data_trans, x = 'Deposit_Kept_Log')\n",
    "sns.histplot(ax = axes[1], data = data_trans, x = 'Time_Room_Service_Log')\n",
    "plt.show()"
   ]
  },
  {
   "cell_type": "code",
   "execution_count": 292,
   "metadata": {},
   "outputs": [
    {
     "data": {
      "image/png": "[encoded data removed]",
      "text/plain": [
       "<Figure size 1008x288 with 1 Axes>"
      ]
     },
     "metadata": {},
     "output_type": "display_data"
    }
   ],
   "source": [
    "# histogramas de gênero\n",
    "fig, axes = plt.subplots(figsize = (14,4))\n",
    "sns.histplot(data = data_trans, x = 'Gender')\n",
    "plt.show()"
   ]
  },
  {
   "cell_type": "code",
   "execution_count": 293,
   "metadata": {},
   "outputs": [],
   "source": [
    "# metade do dataset possui valor 0 para o Deposit_Kept e Time_Room_Service\n",
    "# serão criadas uma variável categórica para cada uma destas variáveis\n",
    "\n",
    "data_trans['Deposit_Kept_Group'] = data_trans['Deposit_Kept']\n",
    "data_trans['Deposit_Kept_Group'].loc[data_trans['Deposit_Kept_Group'] != 0] = 1\n",
    "\n",
    "data_trans['Time_Room_Service_Group'] = data_trans['Time_Room_Service']\n",
    "data_trans['Time_Room_Service_Group'].loc[data_trans['Time_Room_Service_Group'] != 0] = 1"
   ]
  },
  {
   "cell_type": "code",
   "execution_count": 294,
   "metadata": {},
   "outputs": [
    {
     "data": {
      "image/png": "[encoded data removed]",
      "text/plain": [
       "<Figure size 1008x288 with 2 Axes>"
      ]
     },
     "metadata": {},
     "output_type": "display_data"
    }
   ],
   "source": [
    "# histogramas das variáveis contínuas\n",
    "fig, axes = plt.subplots(1,2, figsize = (14,4))\n",
    "sns.histplot(ax = axes[0], data = data_trans, x = 'Deposit_Kept_Group')\n",
    "sns.histplot(ax = axes[1], data = data_trans, x = 'Time_Room_Service_Group')\n",
    "plt.show()"
   ]
  },
  {
   "cell_type": "code",
   "execution_count": 295,
   "metadata": {},
   "outputs": [],
   "source": [
    "# Criando variáveis dummy para Frequent_Traveler, Type e Flight Class\n",
    "data_trans = pd.get_dummies(data_trans, drop_first = True)"
   ]
  },
  {
   "cell_type": "code",
   "execution_count": 296,
   "metadata": {},
   "outputs": [
    {
     "name": "stdout",
     "output_type": "stream",
     "text": [
      "<class 'pandas.core.frame.DataFrame'>\n",
      "Int64Index: 9100 entries, 19346 to 22235\n",
      "Data columns (total 28 columns):\n",
      " #   Column                   Non-Null Count  Dtype  \n",
      "---  ------                   --------------  -----  \n",
      " 0   Frequent_Traveler        9100 non-null   int64  \n",
      " 1   Points                   9100 non-null   int64  \n",
      " 2   Room                     9100 non-null   int64  \n",
      " 3   Check-in/Check-out       9100 non-null   int64  \n",
      " 4   F&B                      9100 non-null   int64  \n",
      " 5   Location                 9100 non-null   int64  \n",
      " 6   Wifi                     9100 non-null   int64  \n",
      " 7   Entertainment            9100 non-null   int64  \n",
      " 8   Gym                      9100 non-null   int64  \n",
      " 9   Spa                      9100 non-null   int64  \n",
      " 10  Staff                    9100 non-null   int64  \n",
      " 11  Pool                     9100 non-null   int64  \n",
      " 12  Baggage_Handling         9100 non-null   int64  \n",
      " 13  Reception                9100 non-null   int64  \n",
      " 14  Cleanliness              9100 non-null   int64  \n",
      " 15  Online_Booking           9100 non-null   int64  \n",
      " 16  Deposit_Kept             9100 non-null   int64  \n",
      " 17  Time_Room_Service        9100 non-null   float64\n",
      " 18  Repeater                 9100 non-null   int64  \n",
      " 19  Age                      8995 non-null   float64\n",
      " 20  Deposit_Kept_Log         9100 non-null   float64\n",
      " 21  Time_Room_Service_Log    9100 non-null   float64\n",
      " 22  Deposit_Kept_Group       9100 non-null   int64  \n",
      " 23  Time_Room_Service_Group  9100 non-null   float64\n",
      " 24  Type_Personal Travel     9100 non-null   uint8  \n",
      " 25  Flight_Class_Eco         9100 non-null   uint8  \n",
      " 26  Flight_Class_Eco Plus    9100 non-null   uint8  \n",
      " 27  Gender_M                 9100 non-null   uint8  \n",
      "dtypes: float64(5), int64(19), uint8(4)\n",
      "memory usage: 1.8 MB\n"
     ]
    }
   ],
   "source": [
    "data_trans.info()"
   ]
  },
  {
   "cell_type": "code",
   "execution_count": 297,
   "metadata": {},
   "outputs": [],
   "source": [
    "data_final = data_trans[['Points', 'Age', 'Gender_M', \n",
    "                        'Frequent_Traveler', 'Type_Personal Travel', 'Flight_Class_Eco', 'Flight_Class_Eco Plus', \n",
    "                         'Deposit_Kept_Group', 'Time_Room_Service_Group',\n",
    "                         'Room', 'Check-in/Check-out', 'F&B', 'Location', 'Wifi', 'Entertainment', 'Gym', 'Spa', \n",
    "                         'Staff', 'Pool', 'Baggage_Handling', 'Reception', 'Cleanliness', 'Online_Booking',\n",
    "                         'Repeater'\n",
    "                        ]].copy()\n",
    "\n"
   ]
  },
  {
   "cell_type": "code",
   "execution_count": 298,
   "metadata": {},
   "outputs": [
    {
     "name": "stdout",
     "output_type": "stream",
     "text": [
      "<class 'pandas.core.frame.DataFrame'>\n",
      "Int64Index: 9100 entries, 19346 to 22235\n",
      "Data columns (total 24 columns):\n",
      " #   Column                   Non-Null Count  Dtype  \n",
      "---  ------                   --------------  -----  \n",
      " 0   Points                   9100 non-null   int64  \n",
      " 1   Age                      8995 non-null   float64\n",
      " 2   Gender_M                 9100 non-null   uint8  \n",
      " 3   Frequent_Traveler        9100 non-null   int64  \n",
      " 4   Type_Personal Travel     9100 non-null   uint8  \n",
      " 5   Flight_Class_Eco         9100 non-null   uint8  \n",
      " 6   Flight_Class_Eco Plus    9100 non-null   uint8  \n",
      " 7   Deposit_Kept_Group       9100 non-null   int64  \n",
      " 8   Time_Room_Service_Group  9100 non-null   float64\n",
      " 9   Room                     9100 non-null   int64  \n",
      " 10  Check-in/Check-out       9100 non-null   int64  \n",
      " 11  F&B                      9100 non-null   int64  \n",
      " 12  Location                 9100 non-null   int64  \n",
      " 13  Wifi                     9100 non-null   int64  \n",
      " 14  Entertainment            9100 non-null   int64  \n",
      " 15  Gym                      9100 non-null   int64  \n",
      " 16  Spa                      9100 non-null   int64  \n",
      " 17  Staff                    9100 non-null   int64  \n",
      " 18  Pool                     9100 non-null   int64  \n",
      " 19  Baggage_Handling         9100 non-null   int64  \n",
      " 20  Reception                9100 non-null   int64  \n",
      " 21  Cleanliness              9100 non-null   int64  \n",
      " 22  Online_Booking           9100 non-null   int64  \n",
      " 23  Repeater                 9100 non-null   int64  \n",
      "dtypes: float64(2), int64(18), uint8(4)\n",
      "memory usage: 1.5 MB\n"
     ]
    }
   ],
   "source": [
    "data_final.info()\n"
   ]
  },
  {
   "cell_type": "markdown",
   "metadata": {},
   "source": [
    "## REDUÇÃO DE VARIÁVEIS\n",
    "### Filther Methods\n"
   ]
  },
  {
   "cell_type": "code",
   "execution_count": 299,
   "metadata": {},
   "outputs": [
    {
     "data": {
      "text/plain": [
       "['Name',\n",
       " 'Frequent_Traveler',\n",
       " 'Date_Birth',\n",
       " 'Type',\n",
       " 'Flight_Class',\n",
       " 'Points',\n",
       " 'Room',\n",
       " 'Check-in/Check-out',\n",
       " 'F&B',\n",
       " 'Location',\n",
       " 'Wifi',\n",
       " 'Entertainment',\n",
       " 'Gym',\n",
       " 'Spa',\n",
       " 'Staff',\n",
       " 'Pool',\n",
       " 'Baggage_Handling',\n",
       " 'Reception',\n",
       " 'Cleanliness',\n",
       " 'Online_Booking',\n",
       " 'Deposit_Kept',\n",
       " 'Time_Room_Service',\n",
       " 'Repeater']"
      ]
     },
     "execution_count": 299,
     "metadata": {},
     "output_type": "execute_result"
    }
   ],
   "source": [
    "# variáveis iniciais:\n",
    "list(data.columns)"
   ]
  },
  {
   "cell_type": "code",
   "execution_count": 300,
   "metadata": {},
   "outputs": [
    {
     "data": {
      "text/plain": [
       "array(['Age', 'Deposit_Kept_Group', 'Flight_Class_Eco',\n",
       "       'Flight_Class_Eco Plus', 'Gender_M', 'Time_Room_Service_Group',\n",
       "       'Type_Personal Travel'], dtype='<U23')"
      ]
     },
     "execution_count": 300,
     "metadata": {},
     "output_type": "execute_result"
    }
   ],
   "source": [
    "# variáveis criadas\n",
    "np.setdiff1d(list(data_final.columns), list(data.columns))"
   ]
  },
  {
   "cell_type": "code",
   "execution_count": 301,
   "metadata": {},
   "outputs": [
    {
     "data": {
      "text/plain": [
       "<AxesSubplot:>"
      ]
     },
     "execution_count": 301,
     "metadata": {},
     "output_type": "execute_result"
    },
    {
     "data": {
      "image/png": "[encoded data removed]",
      "text/plain": [
       "<Figure size 1152x720 with 2 Axes>"
      ]
     },
     "metadata": {},
     "output_type": "display_data"
    }
   ],
   "source": [
    "# correlação entre as variáveis de notas:\n",
    "data_final_corr = data_final[['Repeater', 'Room', 'Check-in/Check-out', 'F&B', 'Location', 'Wifi', 'Entertainment',\n",
    "                              'Gym', 'Spa', 'Pool', 'Baggage_Handling', 'Reception','Cleanliness',\n",
    "                              'Online_Booking', 'Staff']].corr(method = 'spearman')\n",
    "figure = plt.figure(figsize=(16,10))\n",
    "sns.heatmap(data_final_corr, annot=True, fmt = '.1g')\n",
    "# Obs: Room, Check-in/Check-out, F&B, e Location possuem correlação elevada entre si e pouca correlação com a DepVar"
   ]
  },
  {
   "cell_type": "code",
   "execution_count": 302,
   "metadata": {},
   "outputs": [],
   "source": [
    "# Obs: Room, Check-in/Check-out, F&B, e Location possuem correlação elevada entre si e pouca correlação com a DepVar\n",
    "data_final_fm = data_final.drop(['Room', 'Check-in/Check-out', 'F&B', 'Location'], axis = 1)"
   ]
  },
  {
   "cell_type": "code",
   "execution_count": null,
   "metadata": {},
   "outputs": [],
   "source": []
  },
  {
   "cell_type": "markdown",
   "metadata": {},
   "source": [
    "## Aplicando RFE nas variáveis que restaram"
   ]
  },
  {
   "cell_type": "code",
   "execution_count": 303,
   "metadata": {},
   "outputs": [],
   "source": [
    "data_final['Frequent_Traveler'] = data_final['Frequent_Traveler'].astype('uint8')\n",
    "data_final['Deposit_Kept_Group'] = data_final['Deposit_Kept_Group'].astype('uint8')\n",
    "data_final['Time_Room_Service_Group'] = data_final['Time_Room_Service_Group'].astype('uint8')\n",
    "data_final['Repeater'] = data_final['Repeater'].astype('uint8')"
   ]
  },
  {
   "cell_type": "code",
   "execution_count": 304,
   "metadata": {},
   "outputs": [],
   "source": [
    "def select_best_features(data):\n",
    "    X = data.drop('Repeater', axis = 1)\n",
    "    y = data['Repeater'].copy()\n",
    "    skf = StratifiedKFold(n_splits = 3)\n",
    "    counter = 0\n",
    "    for train_index, val_index in skf.split(X, y):\n",
    "        counter +=1\n",
    "        print('')\n",
    "        print('--------------------------------------------------------')\n",
    "        print('SPLIT ', counter)\n",
    "        print('--------------------------------------------------------')\n",
    "        print('')\n",
    "        X_train, X_val = X.iloc[train_index], X.iloc[val_index]\n",
    "        y_train, y_val = y.iloc[train_index], y.iloc[val_index]\n",
    "        \n",
    "        \n",
    "        # fill missing values (mean in numerical data, mode in categorical data)\n",
    "        mean_age_train = X_train['Age'].mean()\n",
    "        X_train['Age'].fillna(mean_age_train, inplace = True)\n",
    "        \n",
    "        # get all numerical variables\n",
    "        X_train_num = X_train.select_dtypes(exclude='uint8').set_index(X_train.index)\n",
    "        X_val_num = X_val.select_dtypes(exclude='uint8').set_index(X_val.index)\n",
    "        \n",
    "        # get all categorical variables\n",
    "        X_train_cat = X_train.select_dtypes(include='uint8').set_index(X_train.index)\n",
    "        X_val_num = X_val.select_dtypes(include='uint8').set_index(X_val.index)\n",
    "        \n",
    "        # Apply scaling to numerical data\n",
    "        scaler = MinMaxScaler().fit(X_train_num)\n",
    "        X_train_scaled = pd.DataFrame(scaler.transform(X_train_num), columns = X_train_num.columns) # MinMaxScaler in the training data\n",
    "    \n",
    "        \n",
    "        # Check which features to use using RFE\n",
    "        print('')\n",
    "        print('----------------- RFE ----------------------')\n",
    "        model = LogisticRegression()\n",
    "        rfe = RFE(estimator = model, n_features_to_select = 8 )\n",
    "        X_rfe = rfe.fit_transform(X = X_train_scaled, y = y_train)\n",
    "        selected_features = pd.Series(rfe.support_, index = X_train_scaled.columns)\n",
    "        print(selected_features)\n",
    "        \n",
    "        # Check which features to use using Chi-Square\n",
    "        print('')\n",
    "        print('----------------- CHI-SQUARE ----------------------')\n",
    "        def TestIndependence(X,y,var,alpha=0.05):        \n",
    "            dfObserved = pd.crosstab(y,X) \n",
    "            chi2, p, dof, expected = stats.chi2_contingency(dfObserved.values)\n",
    "            dfExpected = pd.DataFrame(expected, columns=dfObserved.columns, index = dfObserved.index)\n",
    "            if p<alpha:\n",
    "                result=\"{0} is IMPORTANT for Prediction\".format(var)\n",
    "            else:\n",
    "                result=\"{0} is NOT an important predictor. (Discard {0} from model)\".format(var)\n",
    "            print(result)\n",
    "        \n",
    "        for var in X_train_cat:\n",
    "            TestIndependence(X_train_cat[var],y_train, var)\n",
    "            "
   ]
  },
  {
   "cell_type": "code",
   "execution_count": 305,
   "metadata": {},
   "outputs": [
    {
     "name": "stdout",
     "output_type": "stream",
     "text": [
      "<class 'pandas.core.frame.DataFrame'>\n",
      "Int64Index: 9100 entries, 19346 to 22235\n",
      "Data columns (total 20 columns):\n",
      " #   Column                   Non-Null Count  Dtype  \n",
      "---  ------                   --------------  -----  \n",
      " 0   Points                   9100 non-null   int64  \n",
      " 1   Age                      8995 non-null   float64\n",
      " 2   Gender_M                 9100 non-null   uint8  \n",
      " 3   Frequent_Traveler        9100 non-null   int64  \n",
      " 4   Type_Personal Travel     9100 non-null   uint8  \n",
      " 5   Flight_Class_Eco         9100 non-null   uint8  \n",
      " 6   Flight_Class_Eco Plus    9100 non-null   uint8  \n",
      " 7   Deposit_Kept_Group       9100 non-null   int64  \n",
      " 8   Time_Room_Service_Group  9100 non-null   float64\n",
      " 9   Wifi                     9100 non-null   int64  \n",
      " 10  Entertainment            9100 non-null   int64  \n",
      " 11  Gym                      9100 non-null   int64  \n",
      " 12  Spa                      9100 non-null   int64  \n",
      " 13  Staff                    9100 non-null   int64  \n",
      " 14  Pool                     9100 non-null   int64  \n",
      " 15  Baggage_Handling         9100 non-null   int64  \n",
      " 16  Reception                9100 non-null   int64  \n",
      " 17  Cleanliness              9100 non-null   int64  \n",
      " 18  Online_Booking           9100 non-null   int64  \n",
      " 19  Repeater                 9100 non-null   int64  \n",
      "dtypes: float64(2), int64(14), uint8(4)\n",
      "memory usage: 1.2 MB\n"
     ]
    }
   ],
   "source": [
    "data_final_fm.info()"
   ]
  },
  {
   "cell_type": "code",
   "execution_count": 306,
   "metadata": {
    "scrolled": false
   },
   "outputs": [
    {
     "name": "stdout",
     "output_type": "stream",
     "text": [
      "\n",
      "--------------------------------------------------------\n",
      "SPLIT  1\n",
      "--------------------------------------------------------\n",
      "\n",
      "\n",
      "----------------- RFE ----------------------\n",
      "Points                     False\n",
      "Age                        False\n",
      "Frequent_Traveler           True\n",
      "Deposit_Kept_Group         False\n",
      "Time_Room_Service_Group    False\n",
      "Wifi                        True\n",
      "Entertainment               True\n",
      "Gym                         True\n",
      "Spa                         True\n",
      "Staff                       True\n",
      "Pool                        True\n",
      "Baggage_Handling           False\n",
      "Reception                   True\n",
      "Cleanliness                False\n",
      "Online_Booking             False\n",
      "dtype: bool\n",
      "\n",
      "----------------- CHI-SQUARE ----------------------\n",
      "Gender_M is IMPORTANT for Prediction\n",
      "Type_Personal Travel is IMPORTANT for Prediction\n",
      "Flight_Class_Eco is IMPORTANT for Prediction\n",
      "Flight_Class_Eco Plus is IMPORTANT for Prediction\n",
      "\n",
      "--------------------------------------------------------\n",
      "SPLIT  2\n",
      "--------------------------------------------------------\n",
      "\n",
      "\n",
      "----------------- RFE ----------------------\n",
      "Points                     False\n",
      "Age                        False\n",
      "Frequent_Traveler           True\n",
      "Deposit_Kept_Group         False\n",
      "Time_Room_Service_Group     True\n",
      "Wifi                       False\n",
      "Entertainment               True\n",
      "Gym                         True\n",
      "Spa                         True\n",
      "Staff                       True\n",
      "Pool                        True\n",
      "Baggage_Handling           False\n",
      "Reception                   True\n",
      "Cleanliness                False\n",
      "Online_Booking             False\n",
      "dtype: bool\n",
      "\n",
      "----------------- CHI-SQUARE ----------------------\n",
      "Gender_M is IMPORTANT for Prediction\n",
      "Type_Personal Travel is IMPORTANT for Prediction\n",
      "Flight_Class_Eco is IMPORTANT for Prediction\n",
      "Flight_Class_Eco Plus is IMPORTANT for Prediction\n",
      "\n",
      "--------------------------------------------------------\n",
      "SPLIT  3\n",
      "--------------------------------------------------------\n",
      "\n",
      "\n",
      "----------------- RFE ----------------------\n",
      "Points                     False\n",
      "Age                        False\n",
      "Frequent_Traveler           True\n",
      "Deposit_Kept_Group         False\n",
      "Time_Room_Service_Group     True\n",
      "Wifi                       False\n",
      "Entertainment               True\n",
      "Gym                         True\n",
      "Spa                         True\n",
      "Staff                       True\n",
      "Pool                        True\n",
      "Baggage_Handling           False\n",
      "Reception                   True\n",
      "Cleanliness                False\n",
      "Online_Booking             False\n",
      "dtype: bool\n",
      "\n",
      "----------------- CHI-SQUARE ----------------------\n",
      "Gender_M is IMPORTANT for Prediction\n",
      "Type_Personal Travel is IMPORTANT for Prediction\n",
      "Flight_Class_Eco is IMPORTANT for Prediction\n",
      "Flight_Class_Eco Plus is IMPORTANT for Prediction\n"
     ]
    }
   ],
   "source": [
    "select_best_features(data_final_fm)"
   ]
  },
  {
   "cell_type": "markdown",
   "metadata": {},
   "source": [
    "According to the previous results:\n",
    "- Using RFE (selecting all the important features, as que aparecem pelo menos em um fold):\n",
    "    - Entertainment\n",
    "    - Spa\n",
    "    - Time_Room_Service\n",
    "    - Pool\n",
    "    - Staff\n",
    "\n",
    "- Using Chi-Square:\n",
    "    - Type\n",
    "    - Flight_Class\n",
    "\n",
    "    \n",
    "Concluding, we should keep the variables (this is a possible interpretation):\n",
    "    - XXXX"
   ]
  },
  {
   "cell_type": "code",
   "execution_count": 307,
   "metadata": {},
   "outputs": [],
   "source": [
    "data_final_rfe = data_final_fm.drop(['Points', 'Baggage_Handling', 'Cleanliness', 'Online_Booking'], axis = 1)"
   ]
  },
  {
   "cell_type": "code",
   "execution_count": 308,
   "metadata": {},
   "outputs": [
    {
     "name": "stdout",
     "output_type": "stream",
     "text": [
      "<class 'pandas.core.frame.DataFrame'>\n",
      "Int64Index: 9100 entries, 19346 to 22235\n",
      "Data columns (total 16 columns):\n",
      " #   Column                   Non-Null Count  Dtype  \n",
      "---  ------                   --------------  -----  \n",
      " 0   Age                      8995 non-null   float64\n",
      " 1   Gender_M                 9100 non-null   uint8  \n",
      " 2   Frequent_Traveler        9100 non-null   int64  \n",
      " 3   Type_Personal Travel     9100 non-null   uint8  \n",
      " 4   Flight_Class_Eco         9100 non-null   uint8  \n",
      " 5   Flight_Class_Eco Plus    9100 non-null   uint8  \n",
      " 6   Deposit_Kept_Group       9100 non-null   int64  \n",
      " 7   Time_Room_Service_Group  9100 non-null   float64\n",
      " 8   Wifi                     9100 non-null   int64  \n",
      " 9   Entertainment            9100 non-null   int64  \n",
      " 10  Gym                      9100 non-null   int64  \n",
      " 11  Spa                      9100 non-null   int64  \n",
      " 12  Staff                    9100 non-null   int64  \n",
      " 13  Pool                     9100 non-null   int64  \n",
      " 14  Reception                9100 non-null   int64  \n",
      " 15  Repeater                 9100 non-null   int64  \n",
      "dtypes: float64(2), int64(10), uint8(4)\n",
      "memory usage: 959.8 KB\n"
     ]
    }
   ],
   "source": [
    "data_final_rfe.info()"
   ]
  },
  {
   "cell_type": "markdown",
   "metadata": {},
   "source": [
    "## Compare models using F1 Score"
   ]
  },
  {
   "cell_type": "code",
   "execution_count": 309,
   "metadata": {},
   "outputs": [],
   "source": [
    "from sklearn.metrics import f1_score\n",
    "import time\n",
    "\n",
    "def compare_models(data, model):\n",
    "    # apply StratifiedK-Fold\n",
    "    skf = StratifiedKFold(n_splits = 5)\n",
    "    score_train = []\n",
    "    score_test = []\n",
    "    X = data.drop('Repeater', axis = 1)\n",
    "    y = data['Repeater'].copy()\n",
    "    score_train = []\n",
    "    score_val = []\n",
    "    timer = []\n",
    "    for train_index, val_index in skf.split(X,y):\n",
    "        X_train, X_val = X.iloc[train_index], X.iloc[val_index]\n",
    "        y_train, y_val = y.iloc[train_index], y.iloc[val_index]\n",
    "        \n",
    "        \n",
    "        # This time we are going to use validation to check overfitting \n",
    "        # so we need also to make all the needed changes in the validation\n",
    "        \n",
    "        # fill missing values (mean in numerical data, mode in categorical data)\n",
    "        mean_age_train = X_train['Age'].mean()\n",
    "        X_train['Age'].fillna(mean_age_train, inplace = True)\n",
    "        X_val['Age'].fillna(mean_age_train, inplace = True) # fill with train values\n",
    "\n",
    "        # Data Scaling\n",
    "        # Apply MinMaxScaler\n",
    "        scaler = MinMaxScaler().fit(X_train)\n",
    "        X_train_scaled = scaler.transform(X_train) \n",
    "        X_val_scaled = scaler.transform(X_val) # Scaling with 'scaler' from train data\n",
    "\n",
    "        # Apply model\n",
    "        begin = time.perf_counter() # start counting time\n",
    "        model.fit(X_train_scaled, y_train)\n",
    "        end = time.perf_counter() # finish counting time\n",
    "        predictions_train = model.predict(X_train_scaled)\n",
    "        predictions_val = model.predict(X_val_scaled)\n",
    "        score_train.append(f1_score(y_train, predictions_train))\n",
    "        score_val.append(f1_score(y_val, predictions_val))\n",
    "        timer.append(end-begin) # append time\n",
    "\n",
    "        avg_train = round(np.mean(score_train),3)\n",
    "        avg_val = round(np.mean(score_val),3)\n",
    "        avg_time = round(np.mean(timer),3)\n",
    "        std_train = round(np.std(score_train),2)\n",
    "        std_val = round(np.std(score_val),2)\n",
    "        std_time = round(np.std(timer),2)\n",
    "\n",
    "    return str(avg_time) + '+/-' + str(std_time), str(avg_train) + '+/-' + str(std_train), str(avg_val) + '+/-' + str(std_val)\n",
    "    \n",
    "def show_results(df, data, *args):\n",
    "    \"\"\"\n",
    "    Receive an empty dataframe and the different models and call the function avg_score\n",
    "    \"\"\"\n",
    "    count = 0\n",
    "    # for each model passed as argument\n",
    "    for arg in args:\n",
    "        # obtain the results provided by avg_score\n",
    "        time, avg_train, avg_test = compare_models(data, arg)\n",
    "        # store the results in the right row\n",
    "        df.iloc[count] = time, avg_train, avg_test\n",
    "        count+=1\n",
    "    return df\n"
   ]
  },
  {
   "cell_type": "markdown",
   "metadata": {},
   "source": [
    "# TESTANDO RANDON FOREST"
   ]
  },
  {
   "cell_type": "code",
   "execution_count": 258,
   "metadata": {},
   "outputs": [
    {
     "data": {
      "text/html": [
       "<div>\n",
       "<style scoped>\n",
       "    .dataframe tbody tr th:only-of-type {\n",
       "        vertical-align: middle;\n",
       "    }\n",
       "\n",
       "    .dataframe tbody tr th {\n",
       "        vertical-align: top;\n",
       "    }\n",
       "\n",
       "    .dataframe thead th {\n",
       "        text-align: right;\n",
       "    }\n",
       "</style>\n",
       "<table border=\"1\" class=\"dataframe\">\n",
       "  <thead>\n",
       "    <tr style=\"text-align: right;\">\n",
       "      <th></th>\n",
       "      <th>Time</th>\n",
       "      <th>Train</th>\n",
       "      <th>Validation</th>\n",
       "    </tr>\n",
       "  </thead>\n",
       "  <tbody>\n",
       "    <tr>\n",
       "      <th>model_RF</th>\n",
       "      <td>0.516+/-0.01</td>\n",
       "      <td>1.0+/-0.0</td>\n",
       "      <td>0.937+/-0.0</td>\n",
       "    </tr>\n",
       "    <tr>\n",
       "      <th>model_DTC</th>\n",
       "      <td>0.028+/-0.0</td>\n",
       "      <td>1.0+/-0.0</td>\n",
       "      <td>0.907+/-0.01</td>\n",
       "    </tr>\n",
       "    <tr>\n",
       "      <th>model_BDT</th>\n",
       "      <td>0.186+/-0.01</td>\n",
       "      <td>0.996+/-0.0</td>\n",
       "      <td>0.929+/-0.0</td>\n",
       "    </tr>\n",
       "  </tbody>\n",
       "</table>\n",
       "</div>"
      ],
      "text/plain": [
       "                   Time        Train    Validation\n",
       "model_RF   0.516+/-0.01    1.0+/-0.0   0.937+/-0.0\n",
       "model_DTC   0.028+/-0.0    1.0+/-0.0  0.907+/-0.01\n",
       "model_BDT  0.186+/-0.01  0.996+/-0.0   0.929+/-0.0"
      ]
     },
     "execution_count": 258,
     "metadata": {},
     "output_type": "execute_result"
    }
   ],
   "source": [
    "from sklearn.ensemble import RandomForestClassifier\n",
    "model_RF = RandomForestClassifier()\n",
    "model_DTC = DecisionTreeClassifier()\n",
    "model_BDT = BaggingClassifier(DecisionTreeClassifier())\n",
    "\n",
    "df = pd.DataFrame(columns = ['Time', 'Train','Validation'], index = ['model_RF', 'model_DTC', 'model_BDT'])\n",
    "show_results(df, data_final,             \n",
    "             model_RF, model_DTC, model_BDT)"
   ]
  },
  {
   "cell_type": "code",
   "execution_count": 259,
   "metadata": {},
   "outputs": [
    {
     "data": {
      "text/html": [
       "<div>\n",
       "<style scoped>\n",
       "    .dataframe tbody tr th:only-of-type {\n",
       "        vertical-align: middle;\n",
       "    }\n",
       "\n",
       "    .dataframe tbody tr th {\n",
       "        vertical-align: top;\n",
       "    }\n",
       "\n",
       "    .dataframe thead th {\n",
       "        text-align: right;\n",
       "    }\n",
       "</style>\n",
       "<table border=\"1\" class=\"dataframe\">\n",
       "  <thead>\n",
       "    <tr style=\"text-align: right;\">\n",
       "      <th></th>\n",
       "      <th>Time</th>\n",
       "      <th>Train</th>\n",
       "      <th>Validation</th>\n",
       "    </tr>\n",
       "  </thead>\n",
       "  <tbody>\n",
       "    <tr>\n",
       "      <th>model_RF</th>\n",
       "      <td>0.414+/-0.02</td>\n",
       "      <td>1.0+/-0.0</td>\n",
       "      <td>0.907+/-0.0</td>\n",
       "    </tr>\n",
       "    <tr>\n",
       "      <th>model_DTC</th>\n",
       "      <td>0.015+/-0.0</td>\n",
       "      <td>1.0+/-0.0</td>\n",
       "      <td>0.867+/-0.01</td>\n",
       "    </tr>\n",
       "    <tr>\n",
       "      <th>model_BDT</th>\n",
       "      <td>0.103+/-0.0</td>\n",
       "      <td>0.992+/-0.0</td>\n",
       "      <td>0.895+/-0.01</td>\n",
       "    </tr>\n",
       "  </tbody>\n",
       "</table>\n",
       "</div>"
      ],
      "text/plain": [
       "                   Time        Train    Validation\n",
       "model_RF   0.414+/-0.02    1.0+/-0.0   0.907+/-0.0\n",
       "model_DTC   0.015+/-0.0    1.0+/-0.0  0.867+/-0.01\n",
       "model_BDT   0.103+/-0.0  0.992+/-0.0  0.895+/-0.01"
      ]
     },
     "execution_count": 259,
     "metadata": {},
     "output_type": "execute_result"
    }
   ],
   "source": [
    "from sklearn.ensemble import RandomForestClassifier\n",
    "model_RF = RandomForestClassifier()\n",
    "model_DTC = DecisionTreeClassifier()\n",
    "model_BDT = BaggingClassifier(DecisionTreeClassifier())\n",
    "\n",
    "df = pd.DataFrame(columns = ['Time', 'Train','Validation'], index = ['model_RF', 'model_DTC', 'model_BDT'])\n",
    "show_results(df, data_final_rfe,             \n",
    "             model_RF, model_DTC, model_BDT)"
   ]
  },
  {
   "cell_type": "markdown",
   "metadata": {},
   "source": [
    "# Hyperparametros de uma RF"
   ]
  },
  {
   "cell_type": "code",
   "execution_count": 260,
   "metadata": {},
   "outputs": [
    {
     "data": {
      "text/html": [
       "<div>\n",
       "<style scoped>\n",
       "    .dataframe tbody tr th:only-of-type {\n",
       "        vertical-align: middle;\n",
       "    }\n",
       "\n",
       "    .dataframe tbody tr th {\n",
       "        vertical-align: top;\n",
       "    }\n",
       "\n",
       "    .dataframe thead th {\n",
       "        text-align: right;\n",
       "    }\n",
       "</style>\n",
       "<table border=\"1\" class=\"dataframe\">\n",
       "  <thead>\n",
       "    <tr style=\"text-align: right;\">\n",
       "      <th></th>\n",
       "      <th>Time</th>\n",
       "      <th>Train</th>\n",
       "      <th>Validation</th>\n",
       "    </tr>\n",
       "  </thead>\n",
       "  <tbody>\n",
       "    <tr>\n",
       "      <th>model_RF_1</th>\n",
       "      <td>2.374+/-0.05</td>\n",
       "      <td>1.0+/-0.0</td>\n",
       "      <td>0.936+/-0.0</td>\n",
       "    </tr>\n",
       "    <tr>\n",
       "      <th>model_RF_2</th>\n",
       "      <td>2.98+/-0.11</td>\n",
       "      <td>1.0+/-0.0</td>\n",
       "      <td>0.935+/-0.0</td>\n",
       "    </tr>\n",
       "    <tr>\n",
       "      <th>model_RF_3</th>\n",
       "      <td>3.694+/-0.09</td>\n",
       "      <td>1.0+/-0.0</td>\n",
       "      <td>0.936+/-0.0</td>\n",
       "    </tr>\n",
       "  </tbody>\n",
       "</table>\n",
       "</div>"
      ],
      "text/plain": [
       "                    Time      Train   Validation\n",
       "model_RF_1  2.374+/-0.05  1.0+/-0.0  0.936+/-0.0\n",
       "model_RF_2   2.98+/-0.11  1.0+/-0.0  0.935+/-0.0\n",
       "model_RF_3  3.694+/-0.09  1.0+/-0.0  0.936+/-0.0"
      ]
     },
     "execution_count": 260,
     "metadata": {},
     "output_type": "execute_result"
    }
   ],
   "source": [
    "# número de estimators\n",
    "\n",
    "model_RF_1 = RandomForestClassifier(n_estimators = 500)\n",
    "model_RF_2 = RandomForestClassifier(n_estimators = 600)\n",
    "model_RF_3 = RandomForestClassifier(n_estimators = 700)\n",
    "\n",
    "df = pd.DataFrame(columns = ['Time', 'Train','Validation'], index = ['model_RF_1', 'model_RF_2', 'model_RF_3'])\n",
    "show_results(df, data_final,             \n",
    "             model_RF_1, model_RF_2, model_RF_3)"
   ]
  },
  {
   "cell_type": "code",
   "execution_count": 261,
   "metadata": {},
   "outputs": [
    {
     "data": {
      "text/html": [
       "<div>\n",
       "<style scoped>\n",
       "    .dataframe tbody tr th:only-of-type {\n",
       "        vertical-align: middle;\n",
       "    }\n",
       "\n",
       "    .dataframe tbody tr th {\n",
       "        vertical-align: top;\n",
       "    }\n",
       "\n",
       "    .dataframe thead th {\n",
       "        text-align: right;\n",
       "    }\n",
       "</style>\n",
       "<table border=\"1\" class=\"dataframe\">\n",
       "  <thead>\n",
       "    <tr style=\"text-align: right;\">\n",
       "      <th></th>\n",
       "      <th>Time</th>\n",
       "      <th>Train</th>\n",
       "      <th>Validation</th>\n",
       "    </tr>\n",
       "  </thead>\n",
       "  <tbody>\n",
       "    <tr>\n",
       "      <th>model_RF_1</th>\n",
       "      <td>0.473+/-0.01</td>\n",
       "      <td>1.0+/-0.0</td>\n",
       "      <td>0.936+/-0.0</td>\n",
       "    </tr>\n",
       "    <tr>\n",
       "      <th>model_RF_2</th>\n",
       "      <td>0.435+/-0.01</td>\n",
       "      <td>0.96+/-0.0</td>\n",
       "      <td>0.925+/-0.0</td>\n",
       "    </tr>\n",
       "    <tr>\n",
       "      <th>model_RF_3</th>\n",
       "      <td>0.398+/-0.02</td>\n",
       "      <td>0.936+/-0.0</td>\n",
       "      <td>0.918+/-0.0</td>\n",
       "    </tr>\n",
       "  </tbody>\n",
       "</table>\n",
       "</div>"
      ],
      "text/plain": [
       "                    Time        Train   Validation\n",
       "model_RF_1  0.473+/-0.01    1.0+/-0.0  0.936+/-0.0\n",
       "model_RF_2  0.435+/-0.01   0.96+/-0.0  0.925+/-0.0\n",
       "model_RF_3  0.398+/-0.02  0.936+/-0.0  0.918+/-0.0"
      ]
     },
     "execution_count": 261,
     "metadata": {},
     "output_type": "execute_result"
    }
   ],
   "source": [
    "# número de estimators\n",
    "\n",
    "model_RF_1 = RandomForestClassifier(min_samples_leaf = 1)\n",
    "model_RF_2 = RandomForestClassifier(min_samples_leaf = 5)\n",
    "model_RF_3 = RandomForestClassifier(min_samples_leaf = 10)\n",
    "\n",
    "df = pd.DataFrame(columns = ['Time', 'Train','Validation'], index = ['model_RF_1', 'model_RF_2', 'model_RF_3'])\n",
    "show_results(df, data_final,             \n",
    "             model_RF_1, model_RF_2, model_RF_3)"
   ]
  },
  {
   "cell_type": "code",
   "execution_count": 262,
   "metadata": {},
   "outputs": [
    {
     "data": {
      "text/html": [
       "<div>\n",
       "<style scoped>\n",
       "    .dataframe tbody tr th:only-of-type {\n",
       "        vertical-align: middle;\n",
       "    }\n",
       "\n",
       "    .dataframe tbody tr th {\n",
       "        vertical-align: top;\n",
       "    }\n",
       "\n",
       "    .dataframe thead th {\n",
       "        text-align: right;\n",
       "    }\n",
       "</style>\n",
       "<table border=\"1\" class=\"dataframe\">\n",
       "  <thead>\n",
       "    <tr style=\"text-align: right;\">\n",
       "      <th></th>\n",
       "      <th>Time</th>\n",
       "      <th>Train</th>\n",
       "      <th>Validation</th>\n",
       "    </tr>\n",
       "  </thead>\n",
       "  <tbody>\n",
       "    <tr>\n",
       "      <th>model_RF_1</th>\n",
       "      <td>0.368+/-0.01</td>\n",
       "      <td>1.0+/-0.0</td>\n",
       "      <td>0.906+/-0.0</td>\n",
       "    </tr>\n",
       "    <tr>\n",
       "      <th>model_RF_2</th>\n",
       "      <td>0.313+/-0.0</td>\n",
       "      <td>0.927+/-0.0</td>\n",
       "      <td>0.894+/-0.0</td>\n",
       "    </tr>\n",
       "    <tr>\n",
       "      <th>model_RF_3</th>\n",
       "      <td>0.308+/-0.02</td>\n",
       "      <td>0.904+/-0.0</td>\n",
       "      <td>0.888+/-0.0</td>\n",
       "    </tr>\n",
       "  </tbody>\n",
       "</table>\n",
       "</div>"
      ],
      "text/plain": [
       "                    Time        Train   Validation\n",
       "model_RF_1  0.368+/-0.01    1.0+/-0.0  0.906+/-0.0\n",
       "model_RF_2   0.313+/-0.0  0.927+/-0.0  0.894+/-0.0\n",
       "model_RF_3  0.308+/-0.02  0.904+/-0.0  0.888+/-0.0"
      ]
     },
     "execution_count": 262,
     "metadata": {},
     "output_type": "execute_result"
    }
   ],
   "source": [
    "# número de estimators\n",
    "\n",
    "model_RF_1 = RandomForestClassifier(min_samples_leaf = 1)\n",
    "model_RF_2 = RandomForestClassifier(min_samples_leaf = 5)\n",
    "model_RF_3 = RandomForestClassifier(min_samples_leaf = 10)\n",
    "\n",
    "df = pd.DataFrame(columns = ['Time', 'Train','Validation'], index = ['model_RF_1', 'model_RF_2', 'model_RF_3'])\n",
    "show_results(df, data_final_rfe,             \n",
    "             model_RF_1, model_RF_2, model_RF_3)"
   ]
  },
  {
   "cell_type": "code",
   "execution_count": null,
   "metadata": {},
   "outputs": [],
   "source": []
  },
  {
   "cell_type": "markdown",
   "metadata": {},
   "source": [
    "## Modelos MLP"
   ]
  },
  {
   "cell_type": "code",
   "execution_count": 263,
   "metadata": {},
   "outputs": [
    {
     "data": {
      "text/html": [
       "<div>\n",
       "<style scoped>\n",
       "    .dataframe tbody tr th:only-of-type {\n",
       "        vertical-align: middle;\n",
       "    }\n",
       "\n",
       "    .dataframe tbody tr th {\n",
       "        vertical-align: top;\n",
       "    }\n",
       "\n",
       "    .dataframe thead th {\n",
       "        text-align: right;\n",
       "    }\n",
       "</style>\n",
       "<table border=\"1\" class=\"dataframe\">\n",
       "  <thead>\n",
       "    <tr style=\"text-align: right;\">\n",
       "      <th></th>\n",
       "      <th>Time</th>\n",
       "      <th>Train</th>\n",
       "      <th>Validation</th>\n",
       "    </tr>\n",
       "  </thead>\n",
       "  <tbody>\n",
       "    <tr>\n",
       "      <th>model_NN_hl2</th>\n",
       "      <td>1.866+/-0.11</td>\n",
       "      <td>0.85+/-0.01</td>\n",
       "      <td>0.844+/-0.01</td>\n",
       "    </tr>\n",
       "    <tr>\n",
       "      <th>model_NN_hl10</th>\n",
       "      <td>3.293+/-0.07</td>\n",
       "      <td>0.915+/-0.0</td>\n",
       "      <td>0.909+/-0.0</td>\n",
       "    </tr>\n",
       "    <tr>\n",
       "      <th>model_NN_hl100</th>\n",
       "      <td>6.738+/-0.06</td>\n",
       "      <td>0.95+/-0.0</td>\n",
       "      <td>0.929+/-0.0</td>\n",
       "    </tr>\n",
       "  </tbody>\n",
       "</table>\n",
       "</div>"
      ],
      "text/plain": [
       "                        Time        Train    Validation\n",
       "model_NN_hl2    1.866+/-0.11  0.85+/-0.01  0.844+/-0.01\n",
       "model_NN_hl10   3.293+/-0.07  0.915+/-0.0   0.909+/-0.0\n",
       "model_NN_hl100  6.738+/-0.06   0.95+/-0.0   0.929+/-0.0"
      ]
     },
     "execution_count": 263,
     "metadata": {},
     "output_type": "execute_result"
    }
   ],
   "source": [
    "model_NN_hl2 = MLPClassifier(hidden_layer_sizes = 2)\n",
    "model_NN_hl10 = MLPClassifier(hidden_layer_sizes = 10)\n",
    "model_NN_hl100 = MLPClassifier(hidden_layer_sizes = 100)\n",
    "\n",
    "df = pd.DataFrame(columns = ['Time', 'Train','Validation'], index = ['model_NN_hl2', 'model_NN_hl10', 'model_NN_hl100'])\n",
    "show_results(df, data_final, \n",
    "             model_NN_hl2, model_NN_hl10, model_NN_hl100)"
   ]
  },
  {
   "cell_type": "code",
   "execution_count": 264,
   "metadata": {},
   "outputs": [
    {
     "data": {
      "text/html": [
       "<div>\n",
       "<style scoped>\n",
       "    .dataframe tbody tr th:only-of-type {\n",
       "        vertical-align: middle;\n",
       "    }\n",
       "\n",
       "    .dataframe tbody tr th {\n",
       "        vertical-align: top;\n",
       "    }\n",
       "\n",
       "    .dataframe thead th {\n",
       "        text-align: right;\n",
       "    }\n",
       "</style>\n",
       "<table border=\"1\" class=\"dataframe\">\n",
       "  <thead>\n",
       "    <tr style=\"text-align: right;\">\n",
       "      <th></th>\n",
       "      <th>Time</th>\n",
       "      <th>Train</th>\n",
       "      <th>Validation</th>\n",
       "    </tr>\n",
       "  </thead>\n",
       "  <tbody>\n",
       "    <tr>\n",
       "      <th>model_NN_hl2</th>\n",
       "      <td>1.623+/-0.65</td>\n",
       "      <td>0.82+/-0.06</td>\n",
       "      <td>0.817+/-0.06</td>\n",
       "    </tr>\n",
       "    <tr>\n",
       "      <th>model_NN_hl10</th>\n",
       "      <td>2.201+/-0.02</td>\n",
       "      <td>0.89+/-0.0</td>\n",
       "      <td>0.886+/-0.0</td>\n",
       "    </tr>\n",
       "    <tr>\n",
       "      <th>model_NN_hl100</th>\n",
       "      <td>6.548+/-0.18</td>\n",
       "      <td>0.911+/-0.0</td>\n",
       "      <td>0.899+/-0.0</td>\n",
       "    </tr>\n",
       "  </tbody>\n",
       "</table>\n",
       "</div>"
      ],
      "text/plain": [
       "                        Time        Train    Validation\n",
       "model_NN_hl2    1.623+/-0.65  0.82+/-0.06  0.817+/-0.06\n",
       "model_NN_hl10   2.201+/-0.02   0.89+/-0.0   0.886+/-0.0\n",
       "model_NN_hl100  6.548+/-0.18  0.911+/-0.0   0.899+/-0.0"
      ]
     },
     "execution_count": 264,
     "metadata": {},
     "output_type": "execute_result"
    }
   ],
   "source": [
    "model_NN_hl2 = MLPClassifier(hidden_layer_sizes = 2)\n",
    "model_NN_hl10 = MLPClassifier(hidden_layer_sizes = 10)\n",
    "model_NN_hl100 = MLPClassifier(hidden_layer_sizes = 100)\n",
    "\n",
    "df = pd.DataFrame(columns = ['Time', 'Train','Validation'], index = ['model_NN_hl2', 'model_NN_hl10', 'model_NN_hl100'])\n",
    "show_results(df, data_final_rfe, \n",
    "             model_NN_hl2, model_NN_hl10, model_NN_hl100)"
   ]
  },
  {
   "cell_type": "code",
   "execution_count": 265,
   "metadata": {},
   "outputs": [
    {
     "data": {
      "text/html": [
       "<div>\n",
       "<style scoped>\n",
       "    .dataframe tbody tr th:only-of-type {\n",
       "        vertical-align: middle;\n",
       "    }\n",
       "\n",
       "    .dataframe tbody tr th {\n",
       "        vertical-align: top;\n",
       "    }\n",
       "\n",
       "    .dataframe thead th {\n",
       "        text-align: right;\n",
       "    }\n",
       "</style>\n",
       "<table border=\"1\" class=\"dataframe\">\n",
       "  <thead>\n",
       "    <tr style=\"text-align: right;\">\n",
       "      <th></th>\n",
       "      <th>Time</th>\n",
       "      <th>Train</th>\n",
       "      <th>Validation</th>\n",
       "    </tr>\n",
       "  </thead>\n",
       "  <tbody>\n",
       "    <tr>\n",
       "      <th>model_NN_hl2</th>\n",
       "      <td>2.512+/-0.03</td>\n",
       "      <td>0.857+/-0.01</td>\n",
       "      <td>0.853+/-0.01</td>\n",
       "    </tr>\n",
       "    <tr>\n",
       "      <th>model_NN_hl10</th>\n",
       "      <td>4.017+/-0.12</td>\n",
       "      <td>0.91+/-0.01</td>\n",
       "      <td>0.906+/-0.01</td>\n",
       "    </tr>\n",
       "    <tr>\n",
       "      <th>model_NN_hl100</th>\n",
       "      <td>7.32+/-0.24</td>\n",
       "      <td>0.962+/-0.0</td>\n",
       "      <td>0.928+/-0.01</td>\n",
       "    </tr>\n",
       "  </tbody>\n",
       "</table>\n",
       "</div>"
      ],
      "text/plain": [
       "                        Time         Train    Validation\n",
       "model_NN_hl2    2.512+/-0.03  0.857+/-0.01  0.853+/-0.01\n",
       "model_NN_hl10   4.017+/-0.12   0.91+/-0.01  0.906+/-0.01\n",
       "model_NN_hl100   7.32+/-0.24   0.962+/-0.0  0.928+/-0.01"
      ]
     },
     "execution_count": 265,
     "metadata": {},
     "output_type": "execute_result"
    }
   ],
   "source": [
    "model_NN_hl2 = MLPClassifier(hidden_layer_sizes = (2,2))\n",
    "model_NN_hl10 = MLPClassifier(hidden_layer_sizes = (10,2))\n",
    "model_NN_hl100 = MLPClassifier(hidden_layer_sizes = (100,2))\n",
    "\n",
    "df = pd.DataFrame(columns = ['Time', 'Train','Validation'], index = ['model_NN_hl2', 'model_NN_hl10', 'model_NN_hl100'])\n",
    "show_results(df, data_final, \n",
    "             model_NN_hl2, model_NN_hl10, model_NN_hl100)"
   ]
  },
  {
   "cell_type": "code",
   "execution_count": 266,
   "metadata": {},
   "outputs": [
    {
     "data": {
      "text/html": [
       "<div>\n",
       "<style scoped>\n",
       "    .dataframe tbody tr th:only-of-type {\n",
       "        vertical-align: middle;\n",
       "    }\n",
       "\n",
       "    .dataframe tbody tr th {\n",
       "        vertical-align: top;\n",
       "    }\n",
       "\n",
       "    .dataframe thead th {\n",
       "        text-align: right;\n",
       "    }\n",
       "</style>\n",
       "<table border=\"1\" class=\"dataframe\">\n",
       "  <thead>\n",
       "    <tr style=\"text-align: right;\">\n",
       "      <th></th>\n",
       "      <th>Time</th>\n",
       "      <th>Train</th>\n",
       "      <th>Validation</th>\n",
       "    </tr>\n",
       "  </thead>\n",
       "  <tbody>\n",
       "    <tr>\n",
       "      <th>model_NN_hl2</th>\n",
       "      <td>2.339+/-0.33</td>\n",
       "      <td>0.842+/-0.01</td>\n",
       "      <td>0.841+/-0.01</td>\n",
       "    </tr>\n",
       "    <tr>\n",
       "      <th>model_NN_hl10</th>\n",
       "      <td>2.753+/-0.05</td>\n",
       "      <td>0.894+/-0.0</td>\n",
       "      <td>0.888+/-0.0</td>\n",
       "    </tr>\n",
       "    <tr>\n",
       "      <th>model_NN_hl100</th>\n",
       "      <td>7.093+/-0.32</td>\n",
       "      <td>0.92+/-0.0</td>\n",
       "      <td>0.901+/-0.01</td>\n",
       "    </tr>\n",
       "  </tbody>\n",
       "</table>\n",
       "</div>"
      ],
      "text/plain": [
       "                        Time         Train    Validation\n",
       "model_NN_hl2    2.339+/-0.33  0.842+/-0.01  0.841+/-0.01\n",
       "model_NN_hl10   2.753+/-0.05   0.894+/-0.0   0.888+/-0.0\n",
       "model_NN_hl100  7.093+/-0.32    0.92+/-0.0  0.901+/-0.01"
      ]
     },
     "execution_count": 266,
     "metadata": {},
     "output_type": "execute_result"
    }
   ],
   "source": [
    "model_NN_hl2 = MLPClassifier(hidden_layer_sizes = (2,2))\n",
    "model_NN_hl10 = MLPClassifier(hidden_layer_sizes = (10,2))\n",
    "model_NN_hl100 = MLPClassifier(hidden_layer_sizes = (100,2))\n",
    "\n",
    "df = pd.DataFrame(columns = ['Time', 'Train','Validation'], index = ['model_NN_hl2', 'model_NN_hl10', 'model_NN_hl100'])\n",
    "show_results(df, data_final_rfe, \n",
    "             model_NN_hl2, model_NN_hl10, model_NN_hl100)"
   ]
  },
  {
   "cell_type": "code",
   "execution_count": 267,
   "metadata": {},
   "outputs": [
    {
     "data": {
      "text/html": [
       "<div>\n",
       "<style scoped>\n",
       "    .dataframe tbody tr th:only-of-type {\n",
       "        vertical-align: middle;\n",
       "    }\n",
       "\n",
       "    .dataframe tbody tr th {\n",
       "        vertical-align: top;\n",
       "    }\n",
       "\n",
       "    .dataframe thead th {\n",
       "        text-align: right;\n",
       "    }\n",
       "</style>\n",
       "<table border=\"1\" class=\"dataframe\">\n",
       "  <thead>\n",
       "    <tr style=\"text-align: right;\">\n",
       "      <th></th>\n",
       "      <th>Time</th>\n",
       "      <th>Train</th>\n",
       "      <th>Validation</th>\n",
       "    </tr>\n",
       "  </thead>\n",
       "  <tbody>\n",
       "    <tr>\n",
       "      <th>model_NN_hl2</th>\n",
       "      <td>2.302+/-0.39</td>\n",
       "      <td>0.855+/-0.01</td>\n",
       "      <td>0.854+/-0.01</td>\n",
       "    </tr>\n",
       "    <tr>\n",
       "      <th>model_NN_hl10</th>\n",
       "      <td>2.834+/-0.15</td>\n",
       "      <td>0.895+/-0.0</td>\n",
       "      <td>0.89+/-0.0</td>\n",
       "    </tr>\n",
       "    <tr>\n",
       "      <th>model_NN_hl100</th>\n",
       "      <td>6.996+/-0.12</td>\n",
       "      <td>0.92+/-0.0</td>\n",
       "      <td>0.9+/-0.0</td>\n",
       "    </tr>\n",
       "  </tbody>\n",
       "</table>\n",
       "</div>"
      ],
      "text/plain": [
       "                        Time         Train    Validation\n",
       "model_NN_hl2    2.302+/-0.39  0.855+/-0.01  0.854+/-0.01\n",
       "model_NN_hl10   2.834+/-0.15   0.895+/-0.0    0.89+/-0.0\n",
       "model_NN_hl100  6.996+/-0.12    0.92+/-0.0     0.9+/-0.0"
      ]
     },
     "execution_count": 267,
     "metadata": {},
     "output_type": "execute_result"
    }
   ],
   "source": [
    "model_NN_hl2 = MLPClassifier(hidden_layer_sizes = (2,3))\n",
    "model_NN_hl10 = MLPClassifier(hidden_layer_sizes = (10,3))\n",
    "model_NN_hl100 = MLPClassifier(hidden_layer_sizes = (100,3))\n",
    "\n",
    "df = pd.DataFrame(columns = ['Time', 'Train','Validation'], index = ['model_NN_hl2', 'model_NN_hl10', 'model_NN_hl100'])\n",
    "show_results(df, data_final_rfe, \n",
    "             model_NN_hl2, model_NN_hl10, model_NN_hl100)"
   ]
  },
  {
   "cell_type": "markdown",
   "metadata": {},
   "source": [
    "- __Conclusão__: No MLP, modelos com mais features precisam de mais neurônios nas camadas escondidas. \n",
    "O modelo full performa melhor com 100 neurônios, enquanto o modelo filtrado não tem ganhos com mais de 10 neurônios. Redes com 3 camadas escondidas performaram melhor até agora sem muito custo para o processamento.\n",
    "\n",
    "- __Propostas de modelos_ `modelo fast`__: Bagging com modelo filtrado, 10 neuronios na camada escondida, 3 camadas escondidas\n",
    "- __Propostas de modelos_ `modelo full`__: Bagging com modelo full, 100 neurônios na camada escondida, 3 camadas escondidas"
   ]
  },
  {
   "cell_type": "markdown",
   "metadata": {},
   "source": [
    "# TESTANDO `MODELO FAST`"
   ]
  },
  {
   "cell_type": "code",
   "execution_count": 268,
   "metadata": {},
   "outputs": [
    {
     "data": {
      "text/html": [
       "<div>\n",
       "<style scoped>\n",
       "    .dataframe tbody tr th:only-of-type {\n",
       "        vertical-align: middle;\n",
       "    }\n",
       "\n",
       "    .dataframe tbody tr th {\n",
       "        vertical-align: top;\n",
       "    }\n",
       "\n",
       "    .dataframe thead th {\n",
       "        text-align: right;\n",
       "    }\n",
       "</style>\n",
       "<table border=\"1\" class=\"dataframe\">\n",
       "  <thead>\n",
       "    <tr style=\"text-align: right;\">\n",
       "      <th></th>\n",
       "      <th>Time</th>\n",
       "      <th>Train</th>\n",
       "      <th>Validation</th>\n",
       "    </tr>\n",
       "  </thead>\n",
       "  <tbody>\n",
       "    <tr>\n",
       "      <th>model_bag_NN</th>\n",
       "      <td>64.05+/-2.61</td>\n",
       "      <td>0.922+/-0.0</td>\n",
       "      <td>0.901+/-0.0</td>\n",
       "    </tr>\n",
       "    <tr>\n",
       "      <th>model_NN</th>\n",
       "      <td>7.013+/-0.13</td>\n",
       "      <td>0.922+/-0.0</td>\n",
       "      <td>0.899+/-0.0</td>\n",
       "    </tr>\n",
       "  </tbody>\n",
       "</table>\n",
       "</div>"
      ],
      "text/plain": [
       "                      Time        Train   Validation\n",
       "model_bag_NN  64.05+/-2.61  0.922+/-0.0  0.901+/-0.0\n",
       "model_NN      7.013+/-0.13  0.922+/-0.0  0.899+/-0.0"
      ]
     },
     "execution_count": 268,
     "metadata": {},
     "output_type": "execute_result"
    }
   ],
   "source": [
    "# com e sem bagging\n",
    "\n",
    "model_bag_NN_10 = BaggingClassifier(MLPClassifier(hidden_layer_sizes = (10,3)))\n",
    "model_NN_100 = MLPClassifier(hidden_layer_sizes = (10,3))\n",
    "\n",
    "df = pd.DataFrame(columns = ['Time', 'Train','Validation'], index = ['model_bag_NN', 'model_NN'])\n",
    "show_results(df, data_final_rfe,             \n",
    "             model_bag_NN, model_NN)"
   ]
  },
  {
   "cell_type": "code",
   "execution_count": 269,
   "metadata": {},
   "outputs": [
    {
     "data": {
      "text/html": [
       "<div>\n",
       "<style scoped>\n",
       "    .dataframe tbody tr th:only-of-type {\n",
       "        vertical-align: middle;\n",
       "    }\n",
       "\n",
       "    .dataframe tbody tr th {\n",
       "        vertical-align: top;\n",
       "    }\n",
       "\n",
       "    .dataframe thead th {\n",
       "        text-align: right;\n",
       "    }\n",
       "</style>\n",
       "<table border=\"1\" class=\"dataframe\">\n",
       "  <thead>\n",
       "    <tr style=\"text-align: right;\">\n",
       "      <th></th>\n",
       "      <th>Time</th>\n",
       "      <th>Train</th>\n",
       "      <th>Validation</th>\n",
       "    </tr>\n",
       "  </thead>\n",
       "  <tbody>\n",
       "    <tr>\n",
       "      <th>model_bag_NN</th>\n",
       "      <td>66.803+/-3.0</td>\n",
       "      <td>0.922+/-0.0</td>\n",
       "      <td>0.902+/-0.0</td>\n",
       "    </tr>\n",
       "    <tr>\n",
       "      <th>model_NN</th>\n",
       "      <td>6.994+/-0.16</td>\n",
       "      <td>0.919+/-0.0</td>\n",
       "      <td>0.898+/-0.0</td>\n",
       "    </tr>\n",
       "  </tbody>\n",
       "</table>\n",
       "</div>"
      ],
      "text/plain": [
       "                      Time        Train   Validation\n",
       "model_bag_NN  66.803+/-3.0  0.922+/-0.0  0.902+/-0.0\n",
       "model_NN      6.994+/-0.16  0.919+/-0.0  0.898+/-0.0"
      ]
     },
     "execution_count": 269,
     "metadata": {},
     "output_type": "execute_result"
    }
   ],
   "source": [
    "# com e sem bagging\n",
    "\n",
    "model_bag_NN_10 = BaggingClassifier(MLPClassifier(hidden_layer_sizes = (10,2)))\n",
    "model_NN_100 = MLPClassifier(hidden_layer_sizes = (10,2))\n",
    "\n",
    "df = pd.DataFrame(columns = ['Time', 'Train','Validation'], index = ['model_bag_NN', 'model_NN'])\n",
    "show_results(df, data_final_rfe,             \n",
    "             model_bag_NN, model_NN)"
   ]
  },
  {
   "cell_type": "markdown",
   "metadata": {},
   "source": [
    "# TESTANDO `MODELO FULL`"
   ]
  },
  {
   "cell_type": "code",
   "execution_count": 270,
   "metadata": {},
   "outputs": [
    {
     "data": {
      "text/html": [
       "<div>\n",
       "<style scoped>\n",
       "    .dataframe tbody tr th:only-of-type {\n",
       "        vertical-align: middle;\n",
       "    }\n",
       "\n",
       "    .dataframe tbody tr th {\n",
       "        vertical-align: top;\n",
       "    }\n",
       "\n",
       "    .dataframe thead th {\n",
       "        text-align: right;\n",
       "    }\n",
       "</style>\n",
       "<table border=\"1\" class=\"dataframe\">\n",
       "  <thead>\n",
       "    <tr style=\"text-align: right;\">\n",
       "      <th></th>\n",
       "      <th>Time</th>\n",
       "      <th>Train</th>\n",
       "      <th>Validation</th>\n",
       "    </tr>\n",
       "  </thead>\n",
       "  <tbody>\n",
       "    <tr>\n",
       "      <th>model_bag_NN</th>\n",
       "      <td>65.943+/-3.95</td>\n",
       "      <td>0.962+/-0.0</td>\n",
       "      <td>0.931+/-0.0</td>\n",
       "    </tr>\n",
       "    <tr>\n",
       "      <th>model_NN</th>\n",
       "      <td>9.337+/-1.54</td>\n",
       "      <td>0.961+/-0.01</td>\n",
       "      <td>0.931+/-0.0</td>\n",
       "    </tr>\n",
       "  </tbody>\n",
       "</table>\n",
       "</div>"
      ],
      "text/plain": [
       "                       Time         Train   Validation\n",
       "model_bag_NN  65.943+/-3.95   0.962+/-0.0  0.931+/-0.0\n",
       "model_NN       9.337+/-1.54  0.961+/-0.01  0.931+/-0.0"
      ]
     },
     "execution_count": 270,
     "metadata": {},
     "output_type": "execute_result"
    }
   ],
   "source": [
    "# com e sem bagging\n",
    "###### MELHOR MODELO ATÉ AGORA ###########\n",
    "\n",
    "model_bag_NN_10 = BaggingClassifier(MLPClassifier(hidden_layer_sizes = (100,3)))\n",
    "model_NN_100 = MLPClassifier(hidden_layer_sizes = (100,3))\n",
    "\n",
    "df = pd.DataFrame(columns = ['Time', 'Train','Validation'], index = ['model_bag_NN', 'model_NN'])\n",
    "show_results(df, data_final,             \n",
    "             model_bag_NN, model_NN)"
   ]
  },
  {
   "cell_type": "code",
   "execution_count": 271,
   "metadata": {},
   "outputs": [
    {
     "data": {
      "text/html": [
       "<div>\n",
       "<style scoped>\n",
       "    .dataframe tbody tr th:only-of-type {\n",
       "        vertical-align: middle;\n",
       "    }\n",
       "\n",
       "    .dataframe tbody tr th {\n",
       "        vertical-align: top;\n",
       "    }\n",
       "\n",
       "    .dataframe thead th {\n",
       "        text-align: right;\n",
       "    }\n",
       "</style>\n",
       "<table border=\"1\" class=\"dataframe\">\n",
       "  <thead>\n",
       "    <tr style=\"text-align: right;\">\n",
       "      <th></th>\n",
       "      <th>Time</th>\n",
       "      <th>Train</th>\n",
       "      <th>Validation</th>\n",
       "    </tr>\n",
       "  </thead>\n",
       "  <tbody>\n",
       "    <tr>\n",
       "      <th>model_bag_NN</th>\n",
       "      <td>73.381+/-11.91</td>\n",
       "      <td>0.963+/-0.0</td>\n",
       "      <td>0.929+/-0.0</td>\n",
       "    </tr>\n",
       "    <tr>\n",
       "      <th>model_NN</th>\n",
       "      <td>7.203+/-0.35</td>\n",
       "      <td>0.964+/-0.0</td>\n",
       "      <td>0.929+/-0.0</td>\n",
       "    </tr>\n",
       "  </tbody>\n",
       "</table>\n",
       "</div>"
      ],
      "text/plain": [
       "                        Time        Train   Validation\n",
       "model_bag_NN  73.381+/-11.91  0.963+/-0.0  0.929+/-0.0\n",
       "model_NN        7.203+/-0.35  0.964+/-0.0  0.929+/-0.0"
      ]
     },
     "execution_count": 271,
     "metadata": {},
     "output_type": "execute_result"
    }
   ],
   "source": [
    "# com e sem bagging\n",
    "\n",
    "model_bag_NN_10 = BaggingClassifier(MLPClassifier(hidden_layer_sizes = (100,2)))\n",
    "model_NN_100 = MLPClassifier(hidden_layer_sizes = (100,2))\n",
    "\n",
    "df = pd.DataFrame(columns = ['Time', 'Train','Validation'], index = ['model_bag_NN', 'model_NN'])\n",
    "show_results(df, data_final,             \n",
    "             model_bag_NN, model_NN)"
   ]
  },
  {
   "cell_type": "markdown",
   "metadata": {},
   "source": [
    "# STACKING DE NN E RANDON FOREST"
   ]
  },
  {
   "cell_type": "code",
   "execution_count": 274,
   "metadata": {},
   "outputs": [
    {
     "data": {
      "text/html": [
       "<div>\n",
       "<style scoped>\n",
       "    .dataframe tbody tr th:only-of-type {\n",
       "        vertical-align: middle;\n",
       "    }\n",
       "\n",
       "    .dataframe tbody tr th {\n",
       "        vertical-align: top;\n",
       "    }\n",
       "\n",
       "    .dataframe thead th {\n",
       "        text-align: right;\n",
       "    }\n",
       "</style>\n",
       "<table border=\"1\" class=\"dataframe\">\n",
       "  <thead>\n",
       "    <tr style=\"text-align: right;\">\n",
       "      <th></th>\n",
       "      <th>Time</th>\n",
       "      <th>Train</th>\n",
       "      <th>Validation</th>\n",
       "    </tr>\n",
       "  </thead>\n",
       "  <tbody>\n",
       "    <tr>\n",
       "      <th>RF</th>\n",
       "      <td>0.47+/-0.01</td>\n",
       "      <td>1.0+/-0.0</td>\n",
       "      <td>0.934+/-0.0</td>\n",
       "    </tr>\n",
       "    <tr>\n",
       "      <th>NN</th>\n",
       "      <td>7.042+/-1.03</td>\n",
       "      <td>0.964+/-0.01</td>\n",
       "      <td>0.93+/-0.01</td>\n",
       "    </tr>\n",
       "    <tr>\n",
       "      <th>model_final</th>\n",
       "      <td>43.543+/-1.23</td>\n",
       "      <td>0.999+/-0.0</td>\n",
       "      <td>0.938+/-0.0</td>\n",
       "    </tr>\n",
       "  </tbody>\n",
       "</table>\n",
       "</div>"
      ],
      "text/plain": [
       "                      Time         Train   Validation\n",
       "RF             0.47+/-0.01     1.0+/-0.0  0.934+/-0.0\n",
       "NN            7.042+/-1.03  0.964+/-0.01  0.93+/-0.01\n",
       "model_final  43.543+/-1.23   0.999+/-0.0  0.938+/-0.0"
      ]
     },
     "execution_count": 274,
     "metadata": {},
     "output_type": "execute_result"
    }
   ],
   "source": [
    "from sklearn.ensemble import StackingClassifier\n",
    "estimators = [\n",
    "    ('rfc', RandomForestClassifier(random_state = 42)),\n",
    "    ('nn', MLPClassifier(hidden_layer_sizes = (100,3), random_state = 42))\n",
    "]\n",
    "\n",
    "model_RF = RandomForestClassifier(random_state = 42)\n",
    "model_NN = MLPClassifier(hidden_layer_sizes = (100,3))\n",
    "model_final = StackingClassifier(estimators=estimators)\n",
    "\n",
    "df = pd.DataFrame(columns = ['Time', 'Train','Validation'], index = ['RF', 'NN', 'model_final'])\n",
    "show_results(df, data_final,             \n",
    "             model_RF, model_NN, model_final)"
   ]
  },
  {
   "cell_type": "markdown",
   "metadata": {},
   "source": [
    "# AdaBoost"
   ]
  },
  {
   "cell_type": "code",
   "execution_count": 275,
   "metadata": {},
   "outputs": [
    {
     "data": {
      "text/html": [
       "<div>\n",
       "<style scoped>\n",
       "    .dataframe tbody tr th:only-of-type {\n",
       "        vertical-align: middle;\n",
       "    }\n",
       "\n",
       "    .dataframe tbody tr th {\n",
       "        vertical-align: top;\n",
       "    }\n",
       "\n",
       "    .dataframe thead th {\n",
       "        text-align: right;\n",
       "    }\n",
       "</style>\n",
       "<table border=\"1\" class=\"dataframe\">\n",
       "  <thead>\n",
       "    <tr style=\"text-align: right;\">\n",
       "      <th></th>\n",
       "      <th>Time</th>\n",
       "      <th>Train</th>\n",
       "      <th>Validation</th>\n",
       "    </tr>\n",
       "  </thead>\n",
       "  <tbody>\n",
       "    <tr>\n",
       "      <th>Ada</th>\n",
       "      <td>0.28+/-0.04</td>\n",
       "      <td>0.901+/-0.0</td>\n",
       "      <td>0.898+/-0.01</td>\n",
       "    </tr>\n",
       "    <tr>\n",
       "      <th>Ada2</th>\n",
       "      <td>1.001+/-0.02</td>\n",
       "      <td>0.909+/-0.0</td>\n",
       "      <td>0.904+/-0.01</td>\n",
       "    </tr>\n",
       "  </tbody>\n",
       "</table>\n",
       "</div>"
      ],
      "text/plain": [
       "              Time        Train    Validation\n",
       "Ada    0.28+/-0.04  0.901+/-0.0  0.898+/-0.01\n",
       "Ada2  1.001+/-0.02  0.909+/-0.0  0.904+/-0.01"
      ]
     },
     "execution_count": 275,
     "metadata": {},
     "output_type": "execute_result"
    }
   ],
   "source": [
    "from sklearn.ensemble import AdaBoostClassifier\n",
    "model_Ada = AdaBoostClassifier()\n",
    "model_Ada2 = AdaBoostClassifier(DecisionTreeClassifier(max_depth=1),n_estimators=200)\n",
    "\n",
    "df = pd.DataFrame(columns = ['Time', 'Train','Validation'], index = ['Ada','Ada2'])\n",
    "show_results(df, data_final,             \n",
    "             model_Ada, model_Ada2)"
   ]
  },
  {
   "cell_type": "markdown",
   "metadata": {},
   "source": [
    "# GradientBoosting"
   ]
  },
  {
   "cell_type": "code",
   "execution_count": 277,
   "metadata": {},
   "outputs": [
    {
     "data": {
      "text/html": [
       "<div>\n",
       "<style scoped>\n",
       "    .dataframe tbody tr th:only-of-type {\n",
       "        vertical-align: middle;\n",
       "    }\n",
       "\n",
       "    .dataframe tbody tr th {\n",
       "        vertical-align: top;\n",
       "    }\n",
       "\n",
       "    .dataframe thead th {\n",
       "        text-align: right;\n",
       "    }\n",
       "</style>\n",
       "<table border=\"1\" class=\"dataframe\">\n",
       "  <thead>\n",
       "    <tr style=\"text-align: right;\">\n",
       "      <th></th>\n",
       "      <th>Time</th>\n",
       "      <th>Train</th>\n",
       "      <th>Validation</th>\n",
       "    </tr>\n",
       "  </thead>\n",
       "  <tbody>\n",
       "    <tr>\n",
       "      <th>model_GB</th>\n",
       "      <td>0.46+/-0.01</td>\n",
       "      <td>0.905+/-0.0</td>\n",
       "      <td>0.902+/-0.01</td>\n",
       "    </tr>\n",
       "    <tr>\n",
       "      <th>model_GB2</th>\n",
       "      <td>0.938+/-0.03</td>\n",
       "      <td>0.909+/-0.0</td>\n",
       "      <td>0.904+/-0.01</td>\n",
       "    </tr>\n",
       "    <tr>\n",
       "      <th>model_GB3</th>\n",
       "      <td>1.362+/-0.03</td>\n",
       "      <td>0.909+/-0.0</td>\n",
       "      <td>0.902+/-0.01</td>\n",
       "    </tr>\n",
       "  </tbody>\n",
       "</table>\n",
       "</div>"
      ],
      "text/plain": [
       "                   Time        Train    Validation\n",
       "model_GB    0.46+/-0.01  0.905+/-0.0  0.902+/-0.01\n",
       "model_GB2  0.938+/-0.03  0.909+/-0.0  0.904+/-0.01\n",
       "model_GB3  1.362+/-0.03  0.909+/-0.0  0.902+/-0.01"
      ]
     },
     "execution_count": 277,
     "metadata": {},
     "output_type": "execute_result"
    }
   ],
   "source": [
    "from sklearn.ensemble import GradientBoostingClassifier\n",
    "model_GB = AdaBoostClassifier(n_estimators=100)\n",
    "model_GB2 = AdaBoostClassifier(n_estimators=200)\n",
    "model_GB3 = AdaBoostClassifier(n_estimators=300)\n",
    "\n",
    "df = pd.DataFrame(columns = ['Time', 'Train','Validation'], index = ['model_GB','model_GB2', 'model_GB3'])\n",
    "show_results(df, data_final,             \n",
    "             model_GB, model_GB2, model_GB3)"
   ]
  },
  {
   "cell_type": "markdown",
   "metadata": {},
   "source": [
    "# Conclusão\n",
    "- __`Número de Features`__: Após aplicar alguns métodos de redução de variáveis, chegou-se em um dataset com menos features. Entretanto, o tempo ganho na execução dos modelos não justificou a perda de precisão dos modelos, então o dataset completo foi utilizado\n",
    "- __`Modelos utilizados`__: Para este trabalho, foram testados modelos de redes neurais e árvores de decisão em diferntes métodos de essemble. O modelo de rede neurão que melhor perfomou nesta análise foi um com 3 hidden layers e 100 neurônios em cada camada. Para as árvores de decisão, o melhor modelo foi uma randon forest com os parâmetros default. Ambos os modelos performaram de forma similar, entretanto os modelos de NN demoram sensivelmente mais tempo para serem executados, enquanto os modelos de árvores de decisão sofrem de overfitting\n",
    "\n",
    "- __`Modelos utilizados`__: O modelo final neste trabalho foi um stacking de uma randon forest com uma rede neural. Outros modelos de essemble foram testados (AdaBoost e GradientBoosting) mas com performance inferior ao modelo selecionado."
   ]
  },
  {
   "cell_type": "markdown",
   "metadata": {},
   "source": [
    "# Aplicar modelo StackingClassifier, f1 = 0.9384)"
   ]
  },
  {
   "cell_type": "markdown",
   "metadata": {},
   "source": [
    "## Create the final model and apply to the test dataset"
   ]
  },
  {
   "cell_type": "markdown",
   "metadata": {},
   "source": [
    "According to the results, the best model is KNN with the default parameters since it performs better on validation and has a lower value of overfitting. __(Of course the f1_score in this case is really low and in your project you should apply some fine-tuning or apply different algorithms in order to get better results!)__ <br><br>\n",
    "First, we are going to create our final model using all the training data (the more data the better and this model should have exactly the same structure than the selected model on the previous phase, i.e., a KNN with the default parameters.) <br><br>\n",
    "Then we need to import the test dataset, made all the needed transformations and extract the csv with the answers."
   ]
  },
  {
   "cell_type": "markdown",
   "metadata": {},
   "source": [
    "#### Create final model"
   ]
  },
  {
   "cell_type": "code",
   "execution_count": 317,
   "metadata": {},
   "outputs": [],
   "source": [
    "final_data = data[['Name', 'Date_Birth', 'Frequent_Traveler', 'Type', 'Flight_Class', 'Points', 'Room',\n",
    "       'Check-in/Check-out', 'F&B', 'Location', 'Wifi', 'Entertainment', 'Gym',\n",
    "       'Spa', 'Staff', 'Pool', 'Baggage_Handling', 'Reception', 'Cleanliness',\n",
    "       'Online_Booking', 'Deposit_Kept', 'Time_Room_Service', 'Repeater']].copy()\n",
    "\n",
    "X_final = final_data.iloc[:,:-1]\n",
    "y_final = final_data.iloc[:,-1]\n",
    "\n",
    "# criando a variável de gênero\n",
    "X_final['Gender'] = X_final['Name'].str.slice(0,4)\n",
    "X_final['Gender'].replace('Mr. ', 'M', inplace = True)\n",
    "X_final['Gender'].replace('Mrs.', 'F', inplace = True)\n",
    "X_final['Gender'].replace('Miss', 'F', inplace = True)\n",
    "X_final.drop('Name', axis = 1, inplace = True)\n",
    "\n",
    "# Criando variáveis: Age\n",
    "X_final['Date_Birth'] = pd.to_datetime(X_final['Date_Birth'])\n",
    "X_final['Age'] = 2021 - X_final['Date_Birth'].dt.year\n",
    "X_final.drop('Date_Birth', axis = 1, inplace = True)\n",
    "\n",
    "mode_Age = X_final['Age'].mean()\n",
    "X_final['Age'].fillna(mode_Age, inplace = True)\n",
    "        \n",
    "# Create dummies a\n",
    "# remove one of the variables (to avoid multicollinearity)\n",
    "X_final_dummies = pd.get_dummies(X_final, drop_first = True)\n",
    "\n",
    "# Agrupar os Deposit_Kept e Time_Room_Service\n",
    "X_final_dummies['Deposit_Kept'].loc[X_final_dummies['Deposit_Kept'] != 0] = 1\n",
    "X_final_dummies['Time_Room_Service'].loc[X_final_dummies['Time_Room_Service'] != 0] = 1\n",
    "\n",
    "\n",
    "# Data Scaling\n",
    "# Apply MinMaxScaler\n",
    "scaler = MinMaxScaler().fit(X_final_dummies)\n",
    "X_final_scaled = scaler.transform(X_final_dummies) \n",
    "\n",
    "# Create your final model with exactly the same parameters than your best model during model comparison\n",
    "final_model = StackingClassifier(estimators=estimators).fit(X_final_scaled, y_final)"
   ]
  },
  {
   "cell_type": "markdown",
   "metadata": {},
   "source": [
    "### Aplicar no dataset de teste"
   ]
  },
  {
   "cell_type": "code",
   "execution_count": 320,
   "metadata": {},
   "outputs": [],
   "source": [
    "test = pd.read_csv(r'./datasets/test.csv')\n",
    "test.set_index('Guest_ID', inplace = True)\n",
    "\n",
    "\n",
    "test_final = test[['Name', 'Date_Birth', 'Frequent_Traveler', 'Type', 'Flight_Class', 'Points', 'Room',\n",
    "       'Check-in/Check-out', 'F&B', 'Location', 'Wifi', 'Entertainment', 'Gym',\n",
    "       'Spa', 'Staff', 'Pool', 'Baggage_Handling', 'Reception', 'Cleanliness',\n",
    "       'Online_Booking', 'Deposit_Kept', 'Time_Room_Service']].copy()\n",
    "\n",
    "# criando a variável de gênero\n",
    "test_final['Gender'] = test_final['Name'].str.slice(0,4)\n",
    "test_final['Gender'].replace('Mr. ', 'M', inplace = True)\n",
    "test_final['Gender'].replace('Mrs.', 'F', inplace = True)\n",
    "test_final['Gender'].replace('Miss', 'F', inplace = True)\n",
    "test_final.drop('Name', axis = 1, inplace = True)\n",
    "\n",
    "# Criando variáveis: Age\n",
    "test_final['Date_Birth'] = pd.to_datetime(test['Date_Birth'])\n",
    "test_final['Age'] = 2021 - test_final['Date_Birth'].dt.year\n",
    "test_final.drop('Date_Birth', axis = 1, inplace = True)\n",
    "\n",
    "mode_Age = test_final['Age'].mean()\n",
    "test_final['Age'].fillna(mode_Age, inplace = True)\n",
    "\n",
    "        \n",
    "# Create dummies a\n",
    "# remove one of the variables (to avoid multicollinearity)\n",
    "test_final_dummies = pd.get_dummies(test_final, drop_first = True)\n",
    "\n",
    "# If we don't have all the values in the test dataset that we have in the train, that column will not be created\n",
    "# We should assure that all columns in train are also present in test\n",
    "# Get missing columns from the training dataset\n",
    "missing_cols = set(X_final_dummies.columns ) - set(test_final_dummies.columns )\n",
    "# Add a missing column in test set with default value equal to 0\n",
    "for c in missing_cols:\n",
    "    test_final_dummies[c] = 0\n",
    "# Ensure the order of column in the test set is in the same order than in train set\n",
    "test_final_dummies = test_final_dummies[X_final_dummies.columns]\n",
    "\n",
    "# Data Scaling\n",
    "# Apply MinMaxScaler\n",
    "scaler = MinMaxScaler().fit(test_final_dummies)\n",
    "test_final_scaled = scaler.transform(test_final_dummies)"
   ]
  },
  {
   "cell_type": "markdown",
   "metadata": {},
   "source": [
    "### Exportar o CSV"
   ]
  },
  {
   "cell_type": "code",
   "execution_count": 321,
   "metadata": {},
   "outputs": [],
   "source": [
    "test_final['Repeater'] = final_model.predict(test_final_scaled)\n",
    "final_csv = test_final['Repeater'].copy()\n",
    "final_csv.to_csv(r'./datasets/result.csv')"
   ]
  },
  {
   "cell_type": "code",
   "execution_count": 326,
   "metadata": {},
   "outputs": [
    {
     "data": {
      "text/plain": [
       "Guest_ID\n",
       "19847    0\n",
       "12433    1\n",
       "10273    1\n",
       "12457    0\n",
       "22903    0\n",
       "        ..\n",
       "18266    1\n",
       "21243    1\n",
       "19539    0\n",
       "15253    0\n",
       "22708    1\n",
       "Name: Repeater, Length: 3900, dtype: int64"
      ]
     },
     "execution_count": 326,
     "metadata": {},
     "output_type": "execute_result"
    }
   ],
   "source": [
    "final_csv"
   ]
  },
  {
   "cell_type": "code",
   "execution_count": null,
   "metadata": {},
   "outputs": [],
   "source": []
  }
 ],
 "metadata": {
  "kernelspec": {
   "display_name": "Python 3",
   "language": "python",
   "name": "python3"
  },
  "language_info": {
   "codemirror_mode": {
    "name": "ipython",
    "version": 3
   },
   "file_extension": ".py",
   "mimetype": "text/x-python",
   "name": "python",
   "nbconvert_exporter": "python",
   "pygments_lexer": "ipython3",
   "version": "3.8.5"
  },
  "varInspector": {
   "cols": {
    "lenName": 16,
    "lenType": 16,
    "lenVar": 40
   },
   "kernels_config": {
    "python": {
     "delete_cmd_postfix": "",
     "delete_cmd_prefix": "del ",
     "library": "var_list.py",
     "varRefreshCmd": "print(var_dic_list())"
    },
    "r": {
     "delete_cmd_postfix": ") ",
     "delete_cmd_prefix": "rm(",
     "library": "var_list.r",
     "varRefreshCmd": "cat(var_dic_list()) "
    }
   },
   "types_to_exclude": [
    "module",
    "function",
    "builtin_function_or_method",
    "instance",
    "_Feature"
   ],
   "window_display": false
  }
 },
 "nbformat": 4,
 "nbformat_minor": 4
}
